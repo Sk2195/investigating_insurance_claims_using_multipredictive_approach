{
 "cells": [
  {
   "cell_type": "code",
   "execution_count": 603,
   "id": "459d1fe3",
   "metadata": {},
   "outputs": [],
   "source": [
    "import pandas as pd\n",
    "import numpy as np\n",
    "import tensorflow as tf\n",
    "\n",
    "from sklearn.preprocessing import LabelEncoder\n",
    "from category_encoders import BinaryEncoder\n",
    "from sklearn.model_selection import train_test_split\n",
    "from sklearn.ensemble import RandomForestRegressor\n",
    "from sklearn.metrics import mean_squared_error, r2_score\n",
    "from sklearn.preprocessing import StandardScaler\n",
    "\n",
    "\n",
    "from sklearn.model_selection import cross_val_score\n",
    "from sklearn.linear_model import LinearRegression, Ridge, Lasso, ElasticNet\n",
    "from sklearn.tree import DecisionTreeRegressor\n",
    "from sklearn.ensemble import RandomForestRegressor, GradientBoostingRegressor\n",
    "from sklearn.svm import SVR\n",
    "from sklearn.neighbors import KNeighborsRegressor\n",
    "import xgboost as xgb\n",
    "from sklearn.metrics import mean_squared_error, make_scorer"
   ]
  },
  {
   "cell_type": "markdown",
   "id": "d13d196c",
   "metadata": {},
   "source": [
    "##### Second Objective Dynamic Risk Management:\n",
    "- The second objective of this project to use predictive analytics to predict total_claim for each policyholders."
   ]
  },
  {
   "cell_type": "code",
   "execution_count": 555,
   "id": "b367269e",
   "metadata": {},
   "outputs": [],
   "source": [
    "insurance_claimsdf = pd.read_csv('C:/Users/chimi/Desktop/Python Data Science Projects/insurance_claim/data/insurance_claims.csv')"
   ]
  },
  {
   "cell_type": "code",
   "execution_count": 556,
   "id": "6809901d",
   "metadata": {},
   "outputs": [
    {
     "data": {
      "text/plain": [
       "(1000, 40)"
      ]
     },
     "execution_count": 556,
     "metadata": {},
     "output_type": "execute_result"
    }
   ],
   "source": [
    "# Shape of the dataset\n",
    "insurance_claimsdf.shape"
   ]
  },
  {
   "cell_type": "code",
   "execution_count": 557,
   "id": "1f5db0e2",
   "metadata": {},
   "outputs": [
    {
     "name": "stdout",
     "output_type": "stream",
     "text": [
      "<class 'pandas.core.frame.DataFrame'>\n",
      "RangeIndex: 1000 entries, 0 to 999\n",
      "Data columns (total 40 columns):\n",
      " #   Column                       Non-Null Count  Dtype  \n",
      "---  ------                       --------------  -----  \n",
      " 0   months_as_customer           1000 non-null   int64  \n",
      " 1   age                          1000 non-null   int64  \n",
      " 2   policy_number                1000 non-null   int64  \n",
      " 3   policy_bind_date             1000 non-null   object \n",
      " 4   policy_state                 1000 non-null   object \n",
      " 5   policy_csl                   1000 non-null   object \n",
      " 6   policy_deductable            1000 non-null   int64  \n",
      " 7   policy_annual_premium        1000 non-null   float64\n",
      " 8   umbrella_limit               1000 non-null   int64  \n",
      " 9   insured_zip                  1000 non-null   int64  \n",
      " 10  insured_sex                  1000 non-null   object \n",
      " 11  insured_education_level      1000 non-null   object \n",
      " 12  insured_occupation           1000 non-null   object \n",
      " 13  insured_hobbies              1000 non-null   object \n",
      " 14  insured_relationship         1000 non-null   object \n",
      " 15  capital-gains                1000 non-null   int64  \n",
      " 16  capital-loss                 1000 non-null   int64  \n",
      " 17  incident_date                1000 non-null   object \n",
      " 18  incident_type                1000 non-null   object \n",
      " 19  collision_type               1000 non-null   object \n",
      " 20  incident_severity            1000 non-null   object \n",
      " 21  authorities_contacted        909 non-null    object \n",
      " 22  incident_state               1000 non-null   object \n",
      " 23  incident_city                1000 non-null   object \n",
      " 24  incident_location            1000 non-null   object \n",
      " 25  incident_hour_of_the_day     1000 non-null   int64  \n",
      " 26  number_of_vehicles_involved  1000 non-null   int64  \n",
      " 27  property_damage              1000 non-null   object \n",
      " 28  bodily_injuries              1000 non-null   int64  \n",
      " 29  witnesses                    1000 non-null   int64  \n",
      " 30  police_report_available      1000 non-null   object \n",
      " 31  total_claim_amount           1000 non-null   int64  \n",
      " 32  injury_claim                 1000 non-null   int64  \n",
      " 33  property_claim               1000 non-null   int64  \n",
      " 34  vehicle_claim                1000 non-null   int64  \n",
      " 35  auto_make                    1000 non-null   object \n",
      " 36  auto_model                   1000 non-null   object \n",
      " 37  auto_year                    1000 non-null   int64  \n",
      " 38  fraud_reported               1000 non-null   object \n",
      " 39  _c39                         0 non-null      float64\n",
      "dtypes: float64(2), int64(17), object(21)\n",
      "memory usage: 312.6+ KB\n"
     ]
    },
    {
     "data": {
      "text/plain": [
       "{'head':    months_as_customer  age  policy_number policy_bind_date policy_state  \\\n",
       " 0                 328   48         521585       2014-10-17           OH   \n",
       " 1                 228   42         342868       2006-06-27           IN   \n",
       " 2                 134   29         687698       2000-09-06           OH   \n",
       " 3                 256   41         227811       1990-05-25           IL   \n",
       " 4                 228   44         367455       2014-06-06           IL   \n",
       " \n",
       "   policy_csl  policy_deductable  policy_annual_premium  umbrella_limit  \\\n",
       " 0    250/500               1000                1406.91               0   \n",
       " 1    250/500               2000                1197.22         5000000   \n",
       " 2    100/300               2000                1413.14         5000000   \n",
       " 3    250/500               2000                1415.74         6000000   \n",
       " 4   500/1000               1000                1583.91         6000000   \n",
       " \n",
       "    insured_zip  ... police_report_available total_claim_amount injury_claim  \\\n",
       " 0       466132  ...                     YES              71610         6510   \n",
       " 1       468176  ...                       ?               5070          780   \n",
       " 2       430632  ...                      NO              34650         7700   \n",
       " 3       608117  ...                      NO              63400         6340   \n",
       " 4       610706  ...                      NO               6500         1300   \n",
       " \n",
       "   property_claim vehicle_claim  auto_make  auto_model auto_year  \\\n",
       " 0          13020         52080       Saab         92x      2004   \n",
       " 1            780          3510   Mercedes        E400      2007   \n",
       " 2           3850         23100      Dodge         RAM      2007   \n",
       " 3           6340         50720  Chevrolet       Tahoe      2014   \n",
       " 4            650          4550     Accura         RSX      2009   \n",
       " \n",
       "   fraud_reported _c39  \n",
       " 0              Y  NaN  \n",
       " 1              Y  NaN  \n",
       " 2              N  NaN  \n",
       " 3              Y  NaN  \n",
       " 4              N  NaN  \n",
       " \n",
       " [5 rows x 40 columns],\n",
       " 'info': None}"
      ]
     },
     "execution_count": 557,
     "metadata": {},
     "output_type": "execute_result"
    }
   ],
   "source": [
    "# Display the first few rows and summary information about the dataset\n",
    "display_info = {\n",
    "    'head' : insurance_claimsdf.head(),\n",
    "    'info' : insurance_claimsdf.info()  \n",
    "    \n",
    "}\n",
    "display_info"
   ]
  },
  {
   "cell_type": "code",
   "execution_count": 558,
   "id": "4ffa16df",
   "metadata": {},
   "outputs": [
    {
     "data": {
      "text/plain": [
       "Index(['months_as_customer', 'age', 'policy_number', 'policy_bind_date',\n",
       "       'policy_state', 'policy_csl', 'policy_deductable',\n",
       "       'policy_annual_premium', 'umbrella_limit', 'insured_zip', 'insured_sex',\n",
       "       'insured_education_level', 'insured_occupation', 'insured_hobbies',\n",
       "       'insured_relationship', 'capital-gains', 'capital-loss',\n",
       "       'incident_date', 'incident_type', 'collision_type', 'incident_severity',\n",
       "       'authorities_contacted', 'incident_state', 'incident_city',\n",
       "       'incident_location', 'incident_hour_of_the_day',\n",
       "       'number_of_vehicles_involved', 'property_damage', 'bodily_injuries',\n",
       "       'witnesses', 'police_report_available', 'total_claim_amount',\n",
       "       'injury_claim', 'property_claim', 'vehicle_claim', 'auto_make',\n",
       "       'auto_model', 'auto_year', 'fraud_reported', '_c39'],\n",
       "      dtype='object')"
      ]
     },
     "execution_count": 558,
     "metadata": {},
     "output_type": "execute_result"
    }
   ],
   "source": [
    "# Columns of the dataframe\n",
    "insurance_claimsdf.columns"
   ]
  },
  {
   "cell_type": "code",
   "execution_count": 559,
   "id": "743dd849",
   "metadata": {},
   "outputs": [
    {
     "data": {
      "text/plain": [
       "1000"
      ]
     },
     "execution_count": 559,
     "metadata": {},
     "output_type": "execute_result"
    }
   ],
   "source": [
    "# Looking at number of unique policies\n",
    "# All the policies are unique.\n",
    "# Trying to see if they were any duplicate policies\n",
    "insurance_claimsdf['policy_number'].nunique()"
   ]
  },
  {
   "cell_type": "code",
   "execution_count": 560,
   "id": "c5555dfc",
   "metadata": {},
   "outputs": [],
   "source": [
    "# Drop all policies number - too many unique values\n",
    "insurance_claimsdf.drop('policy_number', axis=1, inplace=True)"
   ]
  },
  {
   "cell_type": "code",
   "execution_count": 561,
   "id": "a1c106fd",
   "metadata": {},
   "outputs": [
    {
     "data": {
      "text/plain": [
       "insured_zip\n",
       "477695    2\n",
       "469429    2\n",
       "446895    2\n",
       "431202    2\n",
       "456602    2\n",
       "         ..\n",
       "476303    1\n",
       "450339    1\n",
       "476502    1\n",
       "600561    1\n",
       "612260    1\n",
       "Name: count, Length: 995, dtype: int64"
      ]
     },
     "execution_count": 561,
     "metadata": {},
     "output_type": "execute_result"
    }
   ],
   "source": [
    "# Check for zipcode too\n",
    "insurance_claimsdf['insured_zip'].value_counts()"
   ]
  },
  {
   "cell_type": "code",
   "execution_count": 562,
   "id": "683ffa21",
   "metadata": {},
   "outputs": [],
   "source": [
    "# Drop the zipcode\n",
    "insurance_claimsdf.drop('insured_zip', axis=1, inplace=True)"
   ]
  },
  {
   "cell_type": "code",
   "execution_count": 563,
   "id": "e3085b93",
   "metadata": {},
   "outputs": [
    {
     "data": {
      "text/plain": [
       "0"
      ]
     },
     "execution_count": 563,
     "metadata": {},
     "output_type": "execute_result"
    }
   ],
   "source": [
    "# Check for duplicates\n",
    "\n",
    "duplicate_rows = insurance_claimsdf.duplicated().sum()\n",
    "\n",
    "duplicate_rows"
   ]
  },
  {
   "cell_type": "code",
   "execution_count": 564,
   "id": "8938171f",
   "metadata": {},
   "outputs": [
    {
     "data": {
      "text/plain": [
       "months_as_customer                0\n",
       "age                               0\n",
       "policy_bind_date                  0\n",
       "policy_state                      0\n",
       "policy_csl                        0\n",
       "policy_deductable                 0\n",
       "policy_annual_premium             0\n",
       "umbrella_limit                    0\n",
       "insured_sex                       0\n",
       "insured_education_level           0\n",
       "insured_occupation                0\n",
       "insured_hobbies                   0\n",
       "insured_relationship              0\n",
       "capital-gains                     0\n",
       "capital-loss                      0\n",
       "incident_date                     0\n",
       "incident_type                     0\n",
       "collision_type                    0\n",
       "incident_severity                 0\n",
       "authorities_contacted            91\n",
       "incident_state                    0\n",
       "incident_city                     0\n",
       "incident_location                 0\n",
       "incident_hour_of_the_day          0\n",
       "number_of_vehicles_involved       0\n",
       "property_damage                   0\n",
       "bodily_injuries                   0\n",
       "witnesses                         0\n",
       "police_report_available           0\n",
       "total_claim_amount                0\n",
       "injury_claim                      0\n",
       "property_claim                    0\n",
       "vehicle_claim                     0\n",
       "auto_make                         0\n",
       "auto_model                        0\n",
       "auto_year                         0\n",
       "fraud_reported                    0\n",
       "_c39                           1000\n",
       "dtype: int64"
      ]
     },
     "execution_count": 564,
     "metadata": {},
     "output_type": "execute_result"
    }
   ],
   "source": [
    "# Check for missing values\n",
    "insurance_claimsdf.isnull().sum()"
   ]
  },
  {
   "cell_type": "code",
   "execution_count": 565,
   "id": "ba70967c",
   "metadata": {},
   "outputs": [
    {
     "data": {
      "text/plain": [
       "authorities_contacted      91\n",
       "_c39                     1000\n",
       "dtype: int64"
      ]
     },
     "execution_count": 565,
     "metadata": {},
     "output_type": "execute_result"
    }
   ],
   "source": [
    "# Check for missing values in each column\n",
    "missing_values = insurance_claimsdf.isnull().sum()\n",
    "\n",
    "missing_values[missing_values > 0]"
   ]
  },
  {
   "cell_type": "code",
   "execution_count": 566,
   "id": "dd9dbe00",
   "metadata": {},
   "outputs": [
    {
     "name": "stderr",
     "output_type": "stream",
     "text": [
      "C:\\Users\\chimi\\AppData\\Local\\Temp\\ipykernel_1620\\3010056018.py:5: FutureWarning: A value is trying to be set on a copy of a DataFrame or Series through chained assignment using an inplace method.\n",
      "The behavior will change in pandas 3.0. This inplace method will never work because the intermediate object on which we are setting values always behaves as a copy.\n",
      "\n",
      "For example, when doing 'df[col].method(value, inplace=True)', try using 'df.method({col: value}, inplace=True)' or df[col] = df[col].method(value) instead, to perform the operation inplace on the original object.\n",
      "\n",
      "\n",
      "  insurance_claimsdf['authorities_contacted'].fillna(mode_authorities_contacted, inplace=True)\n"
     ]
    },
    {
     "data": {
      "text/plain": [
       "0"
      ]
     },
     "execution_count": 566,
     "metadata": {},
     "output_type": "execute_result"
    }
   ],
   "source": [
    "# Calculate the mode of the 'authorities_contacted' column\n",
    "mode_authorities_contacted = insurance_claimsdf['authorities_contacted'].mode()[0]\n",
    "\n",
    "# Fill missing values in 'authorities_contacted' with the mode\n",
    "insurance_claimsdf['authorities_contacted'].fillna(mode_authorities_contacted, inplace=True)\n",
    "\n",
    "# Check if there are any remaining missing values in the column\n",
    "insurance_claimsdf['authorities_contacted'].isnull().sum()"
   ]
  },
  {
   "cell_type": "code",
   "execution_count": 567,
   "id": "9dc9ddc3",
   "metadata": {},
   "outputs": [],
   "source": [
    "# The only column that has missing value is c39-all the 1000 rows are missing in this column\n",
    "# Drop the column\n",
    "insurance_claimsdf.drop(columns = ['_c39'], axis=1, inplace=True)"
   ]
  },
  {
   "cell_type": "markdown",
   "id": "184ee307",
   "metadata": {},
   "source": [
    "#### Feature Engineering subjects for this model\n",
    "- Duration of Policy: Examining whether policies that have been kept for a long time may provide us with information about how the severity of claims may be impacted by more seasoned policyholders.\n",
    "- Vehicle Age: Do older cars typically have more serious damage and cost more to repair?\n",
    "- Day of Week: Does the severity of a claim change depending on the day of the occurrence particular driving behaviors are reflected in?\n",
    "- Categorical Aggregations: Higher claim severities may be predicted by trends in categories such as occupation.\n",
    "- Infrastructure and Environment: The local environment can significantly reduce the severity of events.Additionally, driving conditions may be impacted by seasonal patterns, incident times resulting from traffic, and seasonal patterns."
   ]
  },
  {
   "cell_type": "code",
   "execution_count": 568,
   "id": "76425681",
   "metadata": {},
   "outputs": [
    {
     "data": {
      "text/html": [
       "<div>\n",
       "<style scoped>\n",
       "    .dataframe tbody tr th:only-of-type {\n",
       "        vertical-align: middle;\n",
       "    }\n",
       "\n",
       "    .dataframe tbody tr th {\n",
       "        vertical-align: top;\n",
       "    }\n",
       "\n",
       "    .dataframe thead th {\n",
       "        text-align: right;\n",
       "    }\n",
       "</style>\n",
       "<table border=\"1\" class=\"dataframe\">\n",
       "  <thead>\n",
       "    <tr style=\"text-align: right;\">\n",
       "      <th></th>\n",
       "      <th>time_since_policy_inception</th>\n",
       "      <th>vehicle_age_at_incident</th>\n",
       "      <th>day_of_week</th>\n",
       "    </tr>\n",
       "  </thead>\n",
       "  <tbody>\n",
       "    <tr>\n",
       "      <th>0</th>\n",
       "      <td>100</td>\n",
       "      <td>11</td>\n",
       "      <td>6</td>\n",
       "    </tr>\n",
       "    <tr>\n",
       "      <th>1</th>\n",
       "      <td>3130</td>\n",
       "      <td>8</td>\n",
       "      <td>2</td>\n",
       "    </tr>\n",
       "    <tr>\n",
       "      <th>2</th>\n",
       "      <td>5282</td>\n",
       "      <td>8</td>\n",
       "      <td>6</td>\n",
       "    </tr>\n",
       "    <tr>\n",
       "      <th>3</th>\n",
       "      <td>8996</td>\n",
       "      <td>1</td>\n",
       "      <td>5</td>\n",
       "    </tr>\n",
       "    <tr>\n",
       "      <th>4</th>\n",
       "      <td>256</td>\n",
       "      <td>6</td>\n",
       "      <td>1</td>\n",
       "    </tr>\n",
       "  </tbody>\n",
       "</table>\n",
       "</div>"
      ],
      "text/plain": [
       "   time_since_policy_inception  vehicle_age_at_incident  day_of_week\n",
       "0                          100                       11            6\n",
       "1                         3130                        8            2\n",
       "2                         5282                        8            6\n",
       "3                         8996                        1            5\n",
       "4                          256                        6            1"
      ]
     },
     "execution_count": 568,
     "metadata": {},
     "output_type": "execute_result"
    }
   ],
   "source": [
    "# Perform some light feature engineering relevant to this model which can impact total claim\n",
    "\n",
    "insurance_claimsdf['incident_date'] = pd.to_datetime(insurance_claimsdf['incident_date'])\n",
    "insurance_claimsdf['policy_bind_date'] = pd.to_datetime(insurance_claimsdf['policy_bind_date'])\n",
    "\n",
    "# Calculate Time Since Policy Inception in days\n",
    "insurance_claimsdf['time_since_policy_inception'] = (insurance_claimsdf['incident_date'] - insurance_claimsdf['policy_bind_date']).dt.days\n",
    "\n",
    "# Calculate Age of Vehicle at the time of the incident\n",
    "# Ensure that 'auto_year' is used correctly by subtracting from the incident date's year\n",
    "insurance_claimsdf['vehicle_age_at_incident'] = insurance_claimsdf['incident_date'].dt.year - insurance_claimsdf['auto_year']\n",
    "\n",
    "# Extract Day of the Week from incident_date (0 = Monday, 6 = Sunday)\n",
    "insurance_claimsdf['day_of_week'] = insurance_claimsdf['incident_date'].dt.dayofweek\n",
    "\n",
    "# Display the new columns to confirm creation\n",
    "insurance_claimsdf[['time_since_policy_inception', 'vehicle_age_at_incident', 'day_of_week']].head()"
   ]
  },
  {
   "cell_type": "code",
   "execution_count": 569,
   "id": "ce68db4d",
   "metadata": {},
   "outputs": [],
   "source": [
    "# Function to determine the part of the day\n",
    "def get_part_of_day(hour):\n",
    "    if 6 <= hour <= 11:\n",
    "        return 'Morning'\n",
    "    elif 12 <= hour <= 17:\n",
    "        return 'Afternoon'\n",
    "    elif 18 <= hour <= 23:\n",
    "        return 'Evening'\n",
    "    else:\n",
    "        return 'Night'\n",
    "\n",
    "# Function to determine season\n",
    "def get_season(month):\n",
    "    if month in [3, 4, 5]:\n",
    "        return 'Spring'\n",
    "    elif month in [6, 7, 8]:\n",
    "        return 'Summer'\n",
    "    elif month in [9, 10, 11]:\n",
    "        return 'Autumn'\n",
    "    else:\n",
    "        return 'Winter'\n",
    "\n",
    "insurance_claimsdf['part_of_day'] = insurance_claimsdf['incident_hour_of_the_day'].apply(get_part_of_day)\n",
    "insurance_claimsdf['incident_season'] = insurance_claimsdf['incident_date'].dt.month.apply(get_season)\n"
   ]
  },
  {
   "cell_type": "code",
   "execution_count": 570,
   "id": "a8595623",
   "metadata": {},
   "outputs": [
    {
     "data": {
      "text/html": [
       "<div>\n",
       "<style scoped>\n",
       "    .dataframe tbody tr th:only-of-type {\n",
       "        vertical-align: middle;\n",
       "    }\n",
       "\n",
       "    .dataframe tbody tr th {\n",
       "        vertical-align: top;\n",
       "    }\n",
       "\n",
       "    .dataframe thead th {\n",
       "        text-align: right;\n",
       "    }\n",
       "</style>\n",
       "<table border=\"1\" class=\"dataframe\">\n",
       "  <thead>\n",
       "    <tr style=\"text-align: right;\">\n",
       "      <th></th>\n",
       "      <th>months_as_customer</th>\n",
       "      <th>age</th>\n",
       "      <th>policy_bind_date</th>\n",
       "      <th>policy_state</th>\n",
       "      <th>policy_csl</th>\n",
       "      <th>policy_deductable</th>\n",
       "      <th>policy_annual_premium</th>\n",
       "      <th>umbrella_limit</th>\n",
       "      <th>insured_sex</th>\n",
       "      <th>insured_education_level</th>\n",
       "      <th>...</th>\n",
       "      <th>vehicle_claim</th>\n",
       "      <th>auto_make</th>\n",
       "      <th>auto_model</th>\n",
       "      <th>auto_year</th>\n",
       "      <th>fraud_reported</th>\n",
       "      <th>time_since_policy_inception</th>\n",
       "      <th>vehicle_age_at_incident</th>\n",
       "      <th>day_of_week</th>\n",
       "      <th>part_of_day</th>\n",
       "      <th>incident_season</th>\n",
       "    </tr>\n",
       "  </thead>\n",
       "  <tbody>\n",
       "    <tr>\n",
       "      <th>0</th>\n",
       "      <td>328</td>\n",
       "      <td>48</td>\n",
       "      <td>2014-10-17</td>\n",
       "      <td>OH</td>\n",
       "      <td>250/500</td>\n",
       "      <td>1000</td>\n",
       "      <td>1406.91</td>\n",
       "      <td>0</td>\n",
       "      <td>MALE</td>\n",
       "      <td>MD</td>\n",
       "      <td>...</td>\n",
       "      <td>52080</td>\n",
       "      <td>Saab</td>\n",
       "      <td>92x</td>\n",
       "      <td>2004</td>\n",
       "      <td>Y</td>\n",
       "      <td>100</td>\n",
       "      <td>11</td>\n",
       "      <td>6</td>\n",
       "      <td>Night</td>\n",
       "      <td>Winter</td>\n",
       "    </tr>\n",
       "    <tr>\n",
       "      <th>1</th>\n",
       "      <td>228</td>\n",
       "      <td>42</td>\n",
       "      <td>2006-06-27</td>\n",
       "      <td>IN</td>\n",
       "      <td>250/500</td>\n",
       "      <td>2000</td>\n",
       "      <td>1197.22</td>\n",
       "      <td>5000000</td>\n",
       "      <td>MALE</td>\n",
       "      <td>MD</td>\n",
       "      <td>...</td>\n",
       "      <td>3510</td>\n",
       "      <td>Mercedes</td>\n",
       "      <td>E400</td>\n",
       "      <td>2007</td>\n",
       "      <td>Y</td>\n",
       "      <td>3130</td>\n",
       "      <td>8</td>\n",
       "      <td>2</td>\n",
       "      <td>Morning</td>\n",
       "      <td>Winter</td>\n",
       "    </tr>\n",
       "    <tr>\n",
       "      <th>2</th>\n",
       "      <td>134</td>\n",
       "      <td>29</td>\n",
       "      <td>2000-09-06</td>\n",
       "      <td>OH</td>\n",
       "      <td>100/300</td>\n",
       "      <td>2000</td>\n",
       "      <td>1413.14</td>\n",
       "      <td>5000000</td>\n",
       "      <td>FEMALE</td>\n",
       "      <td>PhD</td>\n",
       "      <td>...</td>\n",
       "      <td>23100</td>\n",
       "      <td>Dodge</td>\n",
       "      <td>RAM</td>\n",
       "      <td>2007</td>\n",
       "      <td>N</td>\n",
       "      <td>5282</td>\n",
       "      <td>8</td>\n",
       "      <td>6</td>\n",
       "      <td>Morning</td>\n",
       "      <td>Winter</td>\n",
       "    </tr>\n",
       "    <tr>\n",
       "      <th>3</th>\n",
       "      <td>256</td>\n",
       "      <td>41</td>\n",
       "      <td>1990-05-25</td>\n",
       "      <td>IL</td>\n",
       "      <td>250/500</td>\n",
       "      <td>2000</td>\n",
       "      <td>1415.74</td>\n",
       "      <td>6000000</td>\n",
       "      <td>FEMALE</td>\n",
       "      <td>PhD</td>\n",
       "      <td>...</td>\n",
       "      <td>50720</td>\n",
       "      <td>Chevrolet</td>\n",
       "      <td>Tahoe</td>\n",
       "      <td>2014</td>\n",
       "      <td>Y</td>\n",
       "      <td>8996</td>\n",
       "      <td>1</td>\n",
       "      <td>5</td>\n",
       "      <td>Night</td>\n",
       "      <td>Winter</td>\n",
       "    </tr>\n",
       "    <tr>\n",
       "      <th>4</th>\n",
       "      <td>228</td>\n",
       "      <td>44</td>\n",
       "      <td>2014-06-06</td>\n",
       "      <td>IL</td>\n",
       "      <td>500/1000</td>\n",
       "      <td>1000</td>\n",
       "      <td>1583.91</td>\n",
       "      <td>6000000</td>\n",
       "      <td>MALE</td>\n",
       "      <td>Associate</td>\n",
       "      <td>...</td>\n",
       "      <td>4550</td>\n",
       "      <td>Accura</td>\n",
       "      <td>RSX</td>\n",
       "      <td>2009</td>\n",
       "      <td>N</td>\n",
       "      <td>256</td>\n",
       "      <td>6</td>\n",
       "      <td>1</td>\n",
       "      <td>Evening</td>\n",
       "      <td>Winter</td>\n",
       "    </tr>\n",
       "  </tbody>\n",
       "</table>\n",
       "<p>5 rows × 42 columns</p>\n",
       "</div>"
      ],
      "text/plain": [
       "   months_as_customer  age policy_bind_date policy_state policy_csl  \\\n",
       "0                 328   48       2014-10-17           OH    250/500   \n",
       "1                 228   42       2006-06-27           IN    250/500   \n",
       "2                 134   29       2000-09-06           OH    100/300   \n",
       "3                 256   41       1990-05-25           IL    250/500   \n",
       "4                 228   44       2014-06-06           IL   500/1000   \n",
       "\n",
       "   policy_deductable  policy_annual_premium  umbrella_limit insured_sex  \\\n",
       "0               1000                1406.91               0        MALE   \n",
       "1               2000                1197.22         5000000        MALE   \n",
       "2               2000                1413.14         5000000      FEMALE   \n",
       "3               2000                1415.74         6000000      FEMALE   \n",
       "4               1000                1583.91         6000000        MALE   \n",
       "\n",
       "  insured_education_level  ... vehicle_claim  auto_make auto_model  auto_year  \\\n",
       "0                      MD  ...         52080       Saab        92x       2004   \n",
       "1                      MD  ...          3510   Mercedes       E400       2007   \n",
       "2                     PhD  ...         23100      Dodge        RAM       2007   \n",
       "3                     PhD  ...         50720  Chevrolet      Tahoe       2014   \n",
       "4               Associate  ...          4550     Accura        RSX       2009   \n",
       "\n",
       "   fraud_reported time_since_policy_inception vehicle_age_at_incident  \\\n",
       "0               Y                         100                      11   \n",
       "1               Y                        3130                       8   \n",
       "2               N                        5282                       8   \n",
       "3               Y                        8996                       1   \n",
       "4               N                         256                       6   \n",
       "\n",
       "  day_of_week part_of_day incident_season  \n",
       "0           6       Night          Winter  \n",
       "1           2     Morning          Winter  \n",
       "2           6     Morning          Winter  \n",
       "3           5       Night          Winter  \n",
       "4           1     Evening          Winter  \n",
       "\n",
       "[5 rows x 42 columns]"
      ]
     },
     "execution_count": 570,
     "metadata": {},
     "output_type": "execute_result"
    }
   ],
   "source": [
    "insurance_claimsdf.head(5)"
   ]
  },
  {
   "cell_type": "code",
   "execution_count": 571,
   "id": "b1ba9f07",
   "metadata": {},
   "outputs": [],
   "source": [
    "# Initialize encoders\n",
    "label_encoder = LabelEncoder()\n",
    "binary_encoder = BinaryEncoder()  # This will be used specifically for high-cardinality nominal variables\n",
    "\n",
    "# Label Encoding for binary categorical variables\n",
    "insurance_claimsdf['insured_sex'] = label_encoder.fit_transform(insurance_claimsdf['insured_sex'])\n",
    "insurance_claimsdf['property_damage'] = label_encoder.fit_transform(insurance_claimsdf['property_damage'])\n",
    "insurance_claimsdf['police_report_available'] = label_encoder.fit_transform(insurance_claimsdf['police_report_available'])"
   ]
  },
  {
   "cell_type": "code",
   "execution_count": 572,
   "id": "9df50c62",
   "metadata": {},
   "outputs": [
    {
     "name": "stdout",
     "output_type": "stream",
     "text": [
      "0    5\n",
      "1    5\n",
      "2    6\n",
      "3    6\n",
      "4    2\n",
      "Name: insured_education_level, dtype: int64\n"
     ]
    }
   ],
   "source": [
    "\n",
    "# Define the order and corresponding mapping manually\n",
    "education_mapping = {\n",
    "    'High School': 0,  # Assuming high school as the base level of formal education\n",
    "    'College': 1,      # Typically refers to some college coursework but less than an associate's degree\n",
    "    'Associate': 2,    # An associate's degree is generally considered above 'some college' but below a bachelor's degree\n",
    "    'Masters': 3,      # A graduate level degree, following a bachelor's\n",
    "    'JD': 4,           # Professional degree, often considered parallel to a master's in terms of years of study\n",
    "    'MD': 5,           # Professional degree, represents a high level of specialization post-graduate\n",
    "    'PhD': 6           # The highest academic degree awarded by universities in most fields\n",
    "}\n",
    "\n",
    "# Apply the mapping to the column\n",
    "insurance_claimsdf['insured_education_level'] = insurance_claimsdf['insured_education_level'].map(education_mapping)\n",
    "\n",
    "# Verify the mapping\n",
    "print(insurance_claimsdf['insured_education_level'].head())"
   ]
  },
  {
   "cell_type": "code",
   "execution_count": 573,
   "id": "903df1f6",
   "metadata": {},
   "outputs": [
    {
     "name": "stdout",
     "output_type": "stream",
     "text": [
      "insured_education_level\n",
      "4    161\n",
      "0    160\n",
      "2    145\n",
      "5    144\n",
      "3    143\n",
      "6    125\n",
      "1    122\n",
      "Name: count, dtype: int64\n"
     ]
    }
   ],
   "source": [
    "print(insurance_claimsdf['insured_education_level'].value_counts())"
   ]
  },
  {
   "cell_type": "code",
   "execution_count": 574,
   "id": "838743ba",
   "metadata": {},
   "outputs": [
    {
     "data": {
      "text/plain": [
       "incident_severity\n",
       "Minor Damage      354\n",
       "Total Loss        280\n",
       "Major Damage      276\n",
       "Trivial Damage     90\n",
       "Name: count, dtype: int64"
      ]
     },
     "execution_count": 574,
     "metadata": {},
     "output_type": "execute_result"
    }
   ],
   "source": [
    "# Claim Severity label\n",
    "insurance_claimsdf['incident_severity'].value_counts()"
   ]
  },
  {
   "cell_type": "code",
   "execution_count": 575,
   "id": "e7a1b517",
   "metadata": {},
   "outputs": [
    {
     "name": "stdout",
     "output_type": "stream",
     "text": [
      "   incident_severity\n",
      "0                  2\n",
      "1                  1\n",
      "2                  1\n",
      "3                  2\n",
      "4                  1\n",
      "incident_severity\n",
      "1    354\n",
      "3    280\n",
      "2    276\n",
      "0     90\n",
      "Name: count, dtype: int64\n"
     ]
    }
   ],
   "source": [
    "# Define the order and corresponding manual mapping\n",
    "severity_mapping = {\n",
    "    'Trivial Damage': 0,   # Least severe\n",
    "    'Minor Damage': 1,     # More severe than trivial but less than major\n",
    "    'Major Damage': 2,     # More severe than minor\n",
    "    'Total Loss': 3        # Most severe\n",
    "}\n",
    "\n",
    "# Apply the mapping to the incident_severity column\n",
    "insurance_claimsdf['incident_severity'] = insurance_claimsdf['incident_severity'].map(severity_mapping)\n",
    "\n",
    "# Check to ensure the mapping has been applied correctly\n",
    "print(insurance_claimsdf[['incident_severity']].head())\n",
    "print(insurance_claimsdf['incident_severity'].value_counts())"
   ]
  },
  {
   "cell_type": "code",
   "execution_count": 576,
   "id": "9f018911",
   "metadata": {},
   "outputs": [
    {
     "data": {
      "text/plain": [
       "incident_severity\n",
       "1    354\n",
       "3    280\n",
       "2    276\n",
       "0     90\n",
       "Name: count, dtype: int64"
      ]
     },
     "execution_count": 576,
     "metadata": {},
     "output_type": "execute_result"
    }
   ],
   "source": [
    "insurance_claimsdf['incident_severity'].value_counts()"
   ]
  },
  {
   "cell_type": "code",
   "execution_count": 577,
   "id": "8f99f107",
   "metadata": {},
   "outputs": [],
   "source": [
    "# Initialize label encoder\n",
    "label_encoder = LabelEncoder()\n",
    "\n",
    "# Apply label encoding to each of the high cardinality nominal variables\n",
    "insurance_claimsdf['insured_occupation'] = label_encoder.fit_transform(insurance_claimsdf['insured_occupation'])\n",
    "insurance_claimsdf['insured_hobbies'] = label_encoder.fit_transform(insurance_claimsdf['insured_hobbies'])\n",
    "insurance_claimsdf['incident_city'] = label_encoder.fit_transform(insurance_claimsdf['incident_city'])\n",
    "insurance_claimsdf['auto_make'] = label_encoder.fit_transform(insurance_claimsdf['auto_make'])\n",
    "insurance_claimsdf['auto_model'] = label_encoder.fit_transform(insurance_claimsdf['auto_model'])"
   ]
  },
  {
   "cell_type": "code",
   "execution_count": 578,
   "id": "626e5f66",
   "metadata": {},
   "outputs": [
    {
     "name": "stdout",
     "output_type": "stream",
     "text": [
      "   months_as_customer  age policy_bind_date  policy_deductable  \\\n",
      "0                 328   48       2014-10-17               1000   \n",
      "1                 228   42       2006-06-27               2000   \n",
      "2                 134   29       2000-09-06               2000   \n",
      "3                 256   41       1990-05-25               2000   \n",
      "4                 228   44       2014-06-06               1000   \n",
      "\n",
      "   policy_annual_premium  umbrella_limit  insured_sex  \\\n",
      "0                1406.91               0            1   \n",
      "1                1197.22         5000000            1   \n",
      "2                1413.14         5000000            0   \n",
      "3                1415.74         6000000            0   \n",
      "4                1583.91         6000000            1   \n",
      "\n",
      "   insured_education_level  insured_occupation  insured_hobbies  ...  \\\n",
      "0                        5                   2               17  ...   \n",
      "1                        5                   6               15  ...   \n",
      "2                        6                  11                2  ...   \n",
      "3                        6                   1                2  ...   \n",
      "4                        2                  11                2  ...   \n",
      "\n",
      "   incident_state_PA  incident_state_SC incident_state_VA  incident_state_WV  \\\n",
      "0                  0                  1                 0                  0   \n",
      "1                  0                  0                 1                  0   \n",
      "2                  0                  0                 0                  0   \n",
      "3                  0                  0                 0                  0   \n",
      "4                  0                  0                 0                  0   \n",
      "\n",
      "   part_of_day_Afternoon part_of_day_Evening  part_of_day_Morning  \\\n",
      "0                      0                   0                    0   \n",
      "1                      0                   0                    1   \n",
      "2                      0                   0                    1   \n",
      "3                      0                   0                    0   \n",
      "4                      0                   1                    0   \n",
      "\n",
      "   part_of_day_Night  incident_season_Spring  incident_season_Winter  \n",
      "0                  1                       0                       1  \n",
      "1                  0                       0                       1  \n",
      "2                  0                       0                       1  \n",
      "3                  1                       0                       1  \n",
      "4                  0                       0                       1  \n",
      "\n",
      "[5 rows x 70 columns]\n"
     ]
    }
   ],
   "source": [
    "# Use pd.get_dummies to encode these and update the dataframe\n",
    "columns_to_encode = ['policy_state', 'policy_csl', 'insured_relationship', 'incident_type', 'collision_type', \n",
    "                     'authorities_contacted', 'incident_state', 'part_of_day', 'incident_season']\n",
    "    \n",
    "# Apply pd.get_dummies to encode these columns and update the dataframe\n",
    "insurance_claimsdf = pd.get_dummies(insurance_claimsdf, columns=columns_to_encode, dtype=int)\n",
    "\n",
    "# Display the DataFrame to verify the changes\n",
    "print(insurance_claimsdf.head())\n"
   ]
  },
  {
   "cell_type": "code",
   "execution_count": 579,
   "id": "8c0b205c",
   "metadata": {},
   "outputs": [],
   "source": [
    "# Dropping 'auto_model', 'auto_year' for too many unique values-/fraud_reported no needed this model\n",
    "insurance_claimsdf.drop(columns=['policy_bind_date','auto_year','fraud_reported','incident_date','incident_location'], axis=1, inplace=True)"
   ]
  },
  {
   "cell_type": "markdown",
   "id": "8142c655",
   "metadata": {},
   "source": [
    "#### Base Modeling"
   ]
  },
  {
   "cell_type": "code",
   "execution_count": 580,
   "id": "56815a93",
   "metadata": {},
   "outputs": [
    {
     "name": "stdout",
     "output_type": "stream",
     "text": [
      "MSE: 3866757.6388000012\n",
      "RMSE: 1966.4072921955922\n",
      "R² score: 0.9941897152455526\n"
     ]
    }
   ],
   "source": [
    "X = insurance_claimsdf.drop('total_claim_amount', axis=1)  # Features\n",
    "y = insurance_claimsdf['total_claim_amount']  # Target\n",
    "\n",
    "# Split the data into training and testing sets\n",
    "X_train, X_test, y_train, y_test = train_test_split(X, y, test_size=0.2, random_state=42)\n",
    "\n",
    "# Initialize and train the RandomForestRegressor\n",
    "model = RandomForestRegressor(n_estimators=100, random_state=42)\n",
    "model.fit(X_train, y_train)\n",
    "\n",
    "# Predict on the test set\n",
    "y_pred = model.predict(X_test)\n",
    "\n",
    "# Evaluate the model\n",
    "mse = mean_squared_error(y_test, y_pred)\n",
    "rmse = np.sqrt(mse)\n",
    "r2 = r2_score(y_test, y_pred)\n",
    "\n",
    "print(\"MSE:\", mse)\n",
    "print(\"RMSE:\", rmse)\n",
    "print(\"R² score:\", r2)"
   ]
  },
  {
   "cell_type": "markdown",
   "id": "d99a640a",
   "metadata": {},
   "source": [
    "#### Run CV to find the best performing model "
   ]
  },
  {
   "cell_type": "markdown",
   "id": "b4e5cf07",
   "metadata": {},
   "source": [
    "#### Date Preparation:"
   ]
  },
  {
   "cell_type": "code",
   "execution_count": 593,
   "id": "ab18826e",
   "metadata": {},
   "outputs": [],
   "source": [
    "# Features and target\n",
    "X = insurance_claimsdf.drop('total_claim_amount', axis=1)\n",
    "y = insurance_claimsdf['total_claim_amount']\n"
   ]
  },
  {
   "cell_type": "markdown",
   "id": "e2576a8d",
   "metadata": {},
   "source": [
    "#### Model Evalution:"
   ]
  },
  {
   "cell_type": "code",
   "execution_count": 594,
   "id": "bb18e8d0",
   "metadata": {},
   "outputs": [],
   "source": [
    "def evaluate_model(model, X, y, num_folds=5):\n",
    "    # Negative RMSE for cross-validation (cross_val_score returns negative values for RMSE)\n",
    "    rmse = make_scorer(mean_squared_error, squared=False)\n",
    "    scores = cross_val_score(model, X, y, scoring=rmse, cv=num_folds)\n",
    "    return np.abs(np.mean(scores))  # Return the average RMSE across all folds\n"
   ]
  },
  {
   "cell_type": "code",
   "execution_count": 596,
   "id": "68bc5c39",
   "metadata": {},
   "outputs": [
    {
     "name": "stdout",
     "output_type": "stream",
     "text": [
      "Linear Regression: Average RMSE = 2.331097007499055e-10\n",
      "Ridge: Average RMSE = 4.99053133059385e-07\n",
      "Lasso: Average RMSE = 0.020445472613820386\n",
      "Elastic Net: Average RMSE = 0.0021465941315441618\n",
      "Decision Tree: Average RMSE = 2801.686416818045\n",
      "Random Forest: Average RMSE = 1878.076452957826\n",
      "Gradient Boosting: Average RMSE = 1044.8483759875294\n",
      "XGBoost: Average RMSE = 1443.0709534204912\n",
      "SVR: Average RMSE = 26920.637453833224\n"
     ]
    }
   ],
   "source": [
    "# Dictionary of models\n",
    "models = {\n",
    "    'Linear Regression': LinearRegression(),\n",
    "    'Ridge': Ridge(),\n",
    "    'Lasso': Lasso(),\n",
    "    'Elastic Net': ElasticNet(),\n",
    "    'Decision Tree': DecisionTreeRegressor(),\n",
    "    'Random Forest': RandomForestRegressor(n_estimators=100),\n",
    "    'Gradient Boosting': GradientBoostingRegressor(n_estimators=100),\n",
    "    'XGBoost': xgb.XGBRegressor(objective='reg:squarederror'),\n",
    "    'SVR':SVR()\n",
    "}\n",
    "\n",
    "# Dictionary to store RMSE for each model\n",
    "model_rmse = {}\n",
    "\n",
    "# Evaluate each model\n",
    "for name, model in models.items():\n",
    "    rmse = evaluate_model(model, X, y)\n",
    "    model_rmse[name] = rmse\n",
    "    print(f\"{name}: Average RMSE = {rmse}\")\n",
    "\n",
    "# Convert results to DataFrame for easier comparison\n",
    "results_df = pd.DataFrame.from_dict(model_rmse, orient='index', columns=['Average RMSE'])\n",
    "results_df.sort_values(by='Average RMSE', inplace=True)  # Sort by RMSE\n"
   ]
  },
  {
   "cell_type": "markdown",
   "id": "ac57b0c0",
   "metadata": {},
   "source": [
    "##### Based on the RMSE value, the best performing model is Linear Regression"
   ]
  }
 ],
 "metadata": {
  "kernelspec": {
   "display_name": "Python 3 (ipykernel)",
   "language": "python",
   "name": "python3"
  },
  "language_info": {
   "codemirror_mode": {
    "name": "ipython",
    "version": 3
   },
   "file_extension": ".py",
   "mimetype": "text/x-python",
   "name": "python",
   "nbconvert_exporter": "python",
   "pygments_lexer": "ipython3",
   "version": "3.9.13"
  }
 },
 "nbformat": 4,
 "nbformat_minor": 5
}
