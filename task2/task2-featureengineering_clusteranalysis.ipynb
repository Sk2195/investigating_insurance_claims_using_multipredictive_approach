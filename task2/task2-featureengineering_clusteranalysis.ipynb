{
 "cells": [
  {
   "cell_type": "code",
   "execution_count": 76,
   "id": "245b6a12",
   "metadata": {},
   "outputs": [],
   "source": [
    "import pandas as np\n",
    "import pandas as pd\n",
    "import matplotlib.pyplot as plt\n",
    "import seaborn as sns"
   ]
  },
  {
   "cell_type": "code",
   "execution_count": 42,
   "id": "d3bedd45",
   "metadata": {},
   "outputs": [],
   "source": [
    "insurance_claimsdf = pd.read_csv('C:/Users/chimi/Desktop/Python Data Science Projects/insurance_claim/data/insurance_claims.csv')"
   ]
  },
  {
   "cell_type": "code",
   "execution_count": 43,
   "id": "62675eec",
   "metadata": {},
   "outputs": [
    {
     "data": {
      "text/plain": [
       "(1000, 40)"
      ]
     },
     "execution_count": 43,
     "metadata": {},
     "output_type": "execute_result"
    }
   ],
   "source": [
    "# Shape of the dataset\n",
    "insurance_claimsdf.shape"
   ]
  },
  {
   "cell_type": "code",
   "execution_count": 44,
   "id": "34d4f090",
   "metadata": {},
   "outputs": [
    {
     "name": "stdout",
     "output_type": "stream",
     "text": [
      "<class 'pandas.core.frame.DataFrame'>\n",
      "RangeIndex: 1000 entries, 0 to 999\n",
      "Data columns (total 40 columns):\n",
      " #   Column                       Non-Null Count  Dtype  \n",
      "---  ------                       --------------  -----  \n",
      " 0   months_as_customer           1000 non-null   int64  \n",
      " 1   age                          1000 non-null   int64  \n",
      " 2   policy_number                1000 non-null   int64  \n",
      " 3   policy_bind_date             1000 non-null   object \n",
      " 4   policy_state                 1000 non-null   object \n",
      " 5   policy_csl                   1000 non-null   object \n",
      " 6   policy_deductable            1000 non-null   int64  \n",
      " 7   policy_annual_premium        1000 non-null   float64\n",
      " 8   umbrella_limit               1000 non-null   int64  \n",
      " 9   insured_zip                  1000 non-null   int64  \n",
      " 10  insured_sex                  1000 non-null   object \n",
      " 11  insured_education_level      1000 non-null   object \n",
      " 12  insured_occupation           1000 non-null   object \n",
      " 13  insured_hobbies              1000 non-null   object \n",
      " 14  insured_relationship         1000 non-null   object \n",
      " 15  capital-gains                1000 non-null   int64  \n",
      " 16  capital-loss                 1000 non-null   int64  \n",
      " 17  incident_date                1000 non-null   object \n",
      " 18  incident_type                1000 non-null   object \n",
      " 19  collision_type               1000 non-null   object \n",
      " 20  incident_severity            1000 non-null   object \n",
      " 21  authorities_contacted        909 non-null    object \n",
      " 22  incident_state               1000 non-null   object \n",
      " 23  incident_city                1000 non-null   object \n",
      " 24  incident_location            1000 non-null   object \n",
      " 25  incident_hour_of_the_day     1000 non-null   int64  \n",
      " 26  number_of_vehicles_involved  1000 non-null   int64  \n",
      " 27  property_damage              1000 non-null   object \n",
      " 28  bodily_injuries              1000 non-null   int64  \n",
      " 29  witnesses                    1000 non-null   int64  \n",
      " 30  police_report_available      1000 non-null   object \n",
      " 31  total_claim_amount           1000 non-null   int64  \n",
      " 32  injury_claim                 1000 non-null   int64  \n",
      " 33  property_claim               1000 non-null   int64  \n",
      " 34  vehicle_claim                1000 non-null   int64  \n",
      " 35  auto_make                    1000 non-null   object \n",
      " 36  auto_model                   1000 non-null   object \n",
      " 37  auto_year                    1000 non-null   int64  \n",
      " 38  fraud_reported               1000 non-null   object \n",
      " 39  _c39                         0 non-null      float64\n",
      "dtypes: float64(2), int64(17), object(21)\n",
      "memory usage: 312.6+ KB\n"
     ]
    },
    {
     "data": {
      "text/plain": [
       "{'head':    months_as_customer  age  policy_number policy_bind_date policy_state  \\\n",
       " 0                 328   48         521585       2014-10-17           OH   \n",
       " 1                 228   42         342868       2006-06-27           IN   \n",
       " 2                 134   29         687698       2000-09-06           OH   \n",
       " 3                 256   41         227811       1990-05-25           IL   \n",
       " 4                 228   44         367455       2014-06-06           IL   \n",
       " \n",
       "   policy_csl  policy_deductable  policy_annual_premium  umbrella_limit  \\\n",
       " 0    250/500               1000                1406.91               0   \n",
       " 1    250/500               2000                1197.22         5000000   \n",
       " 2    100/300               2000                1413.14         5000000   \n",
       " 3    250/500               2000                1415.74         6000000   \n",
       " 4   500/1000               1000                1583.91         6000000   \n",
       " \n",
       "    insured_zip  ... police_report_available total_claim_amount injury_claim  \\\n",
       " 0       466132  ...                     YES              71610         6510   \n",
       " 1       468176  ...                       ?               5070          780   \n",
       " 2       430632  ...                      NO              34650         7700   \n",
       " 3       608117  ...                      NO              63400         6340   \n",
       " 4       610706  ...                      NO               6500         1300   \n",
       " \n",
       "   property_claim vehicle_claim  auto_make  auto_model auto_year  \\\n",
       " 0          13020         52080       Saab         92x      2004   \n",
       " 1            780          3510   Mercedes        E400      2007   \n",
       " 2           3850         23100      Dodge         RAM      2007   \n",
       " 3           6340         50720  Chevrolet       Tahoe      2014   \n",
       " 4            650          4550     Accura         RSX      2009   \n",
       " \n",
       "   fraud_reported _c39  \n",
       " 0              Y  NaN  \n",
       " 1              Y  NaN  \n",
       " 2              N  NaN  \n",
       " 3              Y  NaN  \n",
       " 4              N  NaN  \n",
       " \n",
       " [5 rows x 40 columns],\n",
       " 'info': None}"
      ]
     },
     "execution_count": 44,
     "metadata": {},
     "output_type": "execute_result"
    }
   ],
   "source": [
    "# Display the first few rows and summary information about the dataset\n",
    "display_info = {\n",
    "    'head' : insurance_claimsdf.head(),\n",
    "    'info' : insurance_claimsdf.info()  \n",
    "    \n",
    "}\n",
    "display_info"
   ]
  },
  {
   "cell_type": "code",
   "execution_count": 45,
   "id": "3556f200",
   "metadata": {},
   "outputs": [
    {
     "data": {
      "text/plain": [
       "Index(['months_as_customer', 'age', 'policy_number', 'policy_bind_date',\n",
       "       'policy_state', 'policy_csl', 'policy_deductable',\n",
       "       'policy_annual_premium', 'umbrella_limit', 'insured_zip', 'insured_sex',\n",
       "       'insured_education_level', 'insured_occupation', 'insured_hobbies',\n",
       "       'insured_relationship', 'capital-gains', 'capital-loss',\n",
       "       'incident_date', 'incident_type', 'collision_type', 'incident_severity',\n",
       "       'authorities_contacted', 'incident_state', 'incident_city',\n",
       "       'incident_location', 'incident_hour_of_the_day',\n",
       "       'number_of_vehicles_involved', 'property_damage', 'bodily_injuries',\n",
       "       'witnesses', 'police_report_available', 'total_claim_amount',\n",
       "       'injury_claim', 'property_claim', 'vehicle_claim', 'auto_make',\n",
       "       'auto_model', 'auto_year', 'fraud_reported', '_c39'],\n",
       "      dtype='object')"
      ]
     },
     "execution_count": 45,
     "metadata": {},
     "output_type": "execute_result"
    }
   ],
   "source": [
    "# Columns of the dataframe\n",
    "insurance_claimsdf.columns"
   ]
  },
  {
   "cell_type": "code",
   "execution_count": 46,
   "id": "aa1accb5",
   "metadata": {},
   "outputs": [
    {
     "data": {
      "text/plain": [
       "0"
      ]
     },
     "execution_count": 46,
     "metadata": {},
     "output_type": "execute_result"
    }
   ],
   "source": [
    "# Check for duplicates\n",
    "\n",
    "duplicate_rows = insurance_claimsdf.duplicated().sum()\n",
    "\n",
    "duplicate_rows"
   ]
  },
  {
   "cell_type": "code",
   "execution_count": 47,
   "id": "442041d4",
   "metadata": {},
   "outputs": [
    {
     "data": {
      "text/plain": [
       "months_as_customer                0\n",
       "age                               0\n",
       "policy_number                     0\n",
       "policy_bind_date                  0\n",
       "policy_state                      0\n",
       "policy_csl                        0\n",
       "policy_deductable                 0\n",
       "policy_annual_premium             0\n",
       "umbrella_limit                    0\n",
       "insured_zip                       0\n",
       "insured_sex                       0\n",
       "insured_education_level           0\n",
       "insured_occupation                0\n",
       "insured_hobbies                   0\n",
       "insured_relationship              0\n",
       "capital-gains                     0\n",
       "capital-loss                      0\n",
       "incident_date                     0\n",
       "incident_type                     0\n",
       "collision_type                    0\n",
       "incident_severity                 0\n",
       "authorities_contacted            91\n",
       "incident_state                    0\n",
       "incident_city                     0\n",
       "incident_location                 0\n",
       "incident_hour_of_the_day          0\n",
       "number_of_vehicles_involved       0\n",
       "property_damage                   0\n",
       "bodily_injuries                   0\n",
       "witnesses                         0\n",
       "police_report_available           0\n",
       "total_claim_amount                0\n",
       "injury_claim                      0\n",
       "property_claim                    0\n",
       "vehicle_claim                     0\n",
       "auto_make                         0\n",
       "auto_model                        0\n",
       "auto_year                         0\n",
       "fraud_reported                    0\n",
       "_c39                           1000\n",
       "dtype: int64"
      ]
     },
     "execution_count": 47,
     "metadata": {},
     "output_type": "execute_result"
    }
   ],
   "source": [
    "# Check for missing values\n",
    "insurance_claimsdf.isnull().sum()"
   ]
  },
  {
   "cell_type": "code",
   "execution_count": 48,
   "id": "150fc6f0",
   "metadata": {},
   "outputs": [
    {
     "data": {
      "text/plain": [
       "authorities_contacted      91\n",
       "_c39                     1000\n",
       "dtype: int64"
      ]
     },
     "execution_count": 48,
     "metadata": {},
     "output_type": "execute_result"
    }
   ],
   "source": [
    "# Check for missing values in each column\n",
    "missing_values = insurance_claimsdf.isnull().sum()\n",
    "\n",
    "missing_values[missing_values > 0]\n"
   ]
  },
  {
   "cell_type": "code",
   "execution_count": 49,
   "id": "eb4cba17",
   "metadata": {},
   "outputs": [],
   "source": [
    "# The only column that has missing value is c39-all the 1000 rows are missing in this column\n",
    "# Drop the column\n",
    "insurance_claimsdf.drop('_c39', axis=1, inplace=True)"
   ]
  },
  {
   "cell_type": "code",
   "execution_count": 50,
   "id": "3f2102ac",
   "metadata": {},
   "outputs": [],
   "source": [
    "# Data Type correction\n",
    "insurance_claimsdf['policy_bind_date'] = pd.to_datetime(insurance_claimsdf['policy_bind_date'])\n",
    "insurance_claimsdf['incident_date'] = pd.to_datetime(insurance_claimsdf['incident_date'])\n"
   ]
  },
  {
   "cell_type": "code",
   "execution_count": 51,
   "id": "7271bc44",
   "metadata": {},
   "outputs": [
    {
     "data": {
      "text/plain": [
       "insured_zip    object\n",
       "auto_year      object\n",
       "dtype: object"
      ]
     },
     "execution_count": 51,
     "metadata": {},
     "output_type": "execute_result"
    }
   ],
   "source": [
    "# Check to see if the categorical variables are correctly identified as categorical datatypes\n",
    "insurance_claimsdf['insured_zip'] = insurance_claimsdf['insured_zip'].astype(str)\n",
    "insurance_claimsdf['auto_year'] = insurance_claimsdf['auto_year'].astype(str)\n",
    "\n",
    "insurance_claimsdf[['insured_zip','auto_year']].dtypes"
   ]
  },
  {
   "cell_type": "code",
   "execution_count": 52,
   "id": "acf0884b",
   "metadata": {},
   "outputs": [],
   "source": [
    "insurance_claimsdf['policy_age_at_incident'] = (insurance_claimsdf['incident_date'] - insurance_claimsdf['policy_bind_date']).dt.days"
   ]
  },
  {
   "cell_type": "code",
   "execution_count": 53,
   "id": "1652b97e",
   "metadata": {},
   "outputs": [],
   "source": [
    "# Import labelEncoder\n",
    "from sklearn.preprocessing import LabelEncoder\n"
   ]
  },
  {
   "cell_type": "code",
   "execution_count": 54,
   "id": "db3d09f7",
   "metadata": {},
   "outputs": [
    {
     "data": {
      "text/plain": [
       "(  policy_bind_date incident_date  insured_sex  police_report_available  \\\n",
       " 0       2014-10-17    2015-01-25            1                        2   \n",
       " 1       2006-06-27    2015-01-21            1                        1   \n",
       " 2       2000-09-06    2015-02-22            0                        0   \n",
       " 3       1990-05-25    2015-01-10            0                        0   \n",
       " 4       2014-06-06    2015-02-17            1                        0   \n",
       " \n",
       "    property_damage  fraud_reported  \n",
       " 0                2               1  \n",
       " 1                1               1  \n",
       " 2                0               0  \n",
       " 3                1               1  \n",
       " 4                0               0  ,\n",
       " months_as_customer                      int64\n",
       " age                                     int64\n",
       " policy_number                           int64\n",
       " policy_bind_date               datetime64[ns]\n",
       " policy_state                           object\n",
       " policy_csl                             object\n",
       " policy_deductable                       int64\n",
       " policy_annual_premium                 float64\n",
       " umbrella_limit                          int64\n",
       " insured_zip                            object\n",
       " insured_sex                             int32\n",
       " insured_education_level                object\n",
       " insured_occupation                     object\n",
       " insured_hobbies                        object\n",
       " insured_relationship                   object\n",
       " capital-gains                           int64\n",
       " capital-loss                            int64\n",
       " incident_date                  datetime64[ns]\n",
       " incident_type                          object\n",
       " collision_type                         object\n",
       " incident_severity                      object\n",
       " authorities_contacted                  object\n",
       " incident_state                         object\n",
       " incident_city                          object\n",
       " incident_location                      object\n",
       " incident_hour_of_the_day                int64\n",
       " number_of_vehicles_involved             int64\n",
       " property_damage                         int32\n",
       " bodily_injuries                         int64\n",
       " witnesses                               int64\n",
       " police_report_available                 int32\n",
       " total_claim_amount                      int64\n",
       " injury_claim                            int64\n",
       " property_claim                          int64\n",
       " vehicle_claim                           int64\n",
       " auto_make                              object\n",
       " auto_model                             object\n",
       " auto_year                              object\n",
       " fraud_reported                          int32\n",
       " policy_age_at_incident                  int64\n",
       " dtype: object)"
      ]
     },
     "execution_count": 54,
     "metadata": {},
     "output_type": "execute_result"
    }
   ],
   "source": [
    "# Encode binary categorical variables\n",
    "\n",
    "binary_columns = ['insured_sex','police_report_available','property_damage','fraud_reported']\n",
    "\n",
    "\n",
    "# Encode binary categorical variable\n",
    "\n",
    "label_encoders = {}\n",
    "\n",
    "for col in binary_columns:\n",
    "    le = LabelEncoder()\n",
    "    insurance_claimsdf[col] = le.fit_transform(insurance_claimsdf[col].apply(lambda x: 'Unknown' if x == '?' else x))\n",
    "    label_encoders[col] = le\n",
    "    \n",
    "# Display the changes and check the encoded columns\n",
    "insurance_claimsdf[['policy_bind_date', 'incident_date', 'insured_sex', 'police_report_available', 'property_damage', 'fraud_reported']].head(), insurance_claimsdf.dtypes\n"
   ]
  },
  {
   "cell_type": "code",
   "execution_count": 55,
   "id": "8737a3d7",
   "metadata": {},
   "outputs": [],
   "source": [
    "# Extract temporal features \n",
    "insurance_claimsdf['policy_bind_year'] = insurance_claimsdf['policy_bind_date'].dt.year\n",
    "insurance_claimsdf['policy_bind_weekday'] = insurance_claimsdf['policy_bind_date'].dt.month\n",
    "insurance_claimsdf['policy_bind_weekday'] = insurance_claimsdf['policy_bind_date'].dt.weekday\n",
    "insurance_claimsdf['incident_year'] = insurance_claimsdf['incident_date'].dt.year\n",
    "insurance_claimsdf['incident_month'] = insurance_claimsdf['incident_date'].dt.month\n",
    "insurance_claimsdf['incident_weekday'] = insurance_claimsdf['incident_date'].dt.weekday"
   ]
  },
  {
   "cell_type": "code",
   "execution_count": 56,
   "id": "6910b768",
   "metadata": {},
   "outputs": [
    {
     "data": {
      "text/html": [
       "<div>\n",
       "<style scoped>\n",
       "    .dataframe tbody tr th:only-of-type {\n",
       "        vertical-align: middle;\n",
       "    }\n",
       "\n",
       "    .dataframe tbody tr th {\n",
       "        vertical-align: top;\n",
       "    }\n",
       "\n",
       "    .dataframe thead th {\n",
       "        text-align: right;\n",
       "    }\n",
       "</style>\n",
       "<table border=\"1\" class=\"dataframe\">\n",
       "  <thead>\n",
       "    <tr style=\"text-align: right;\">\n",
       "      <th></th>\n",
       "      <th>months_as_customer</th>\n",
       "      <th>age</th>\n",
       "      <th>policy_number</th>\n",
       "      <th>policy_bind_date</th>\n",
       "      <th>policy_state</th>\n",
       "      <th>policy_csl</th>\n",
       "      <th>policy_deductable</th>\n",
       "      <th>policy_annual_premium</th>\n",
       "      <th>umbrella_limit</th>\n",
       "      <th>insured_zip</th>\n",
       "      <th>...</th>\n",
       "      <th>auto_year</th>\n",
       "      <th>fraud_reported</th>\n",
       "      <th>policy_age_at_incident</th>\n",
       "      <th>policy_bind_year</th>\n",
       "      <th>policy_bind_weekday</th>\n",
       "      <th>incident_year</th>\n",
       "      <th>incident_month</th>\n",
       "      <th>incident_weekday</th>\n",
       "      <th>claims_severity</th>\n",
       "      <th>incident_time_of_day</th>\n",
       "    </tr>\n",
       "  </thead>\n",
       "  <tbody>\n",
       "    <tr>\n",
       "      <th>0</th>\n",
       "      <td>328</td>\n",
       "      <td>48</td>\n",
       "      <td>521585</td>\n",
       "      <td>2014-10-17</td>\n",
       "      <td>2</td>\n",
       "      <td>1</td>\n",
       "      <td>1000</td>\n",
       "      <td>1406.91</td>\n",
       "      <td>0</td>\n",
       "      <td>466132</td>\n",
       "      <td>...</td>\n",
       "      <td>2004</td>\n",
       "      <td>1</td>\n",
       "      <td>100</td>\n",
       "      <td>2014</td>\n",
       "      <td>4</td>\n",
       "      <td>2015</td>\n",
       "      <td>1</td>\n",
       "      <td>6</td>\n",
       "      <td>72810</td>\n",
       "      <td>3</td>\n",
       "    </tr>\n",
       "    <tr>\n",
       "      <th>1</th>\n",
       "      <td>228</td>\n",
       "      <td>42</td>\n",
       "      <td>342868</td>\n",
       "      <td>2006-06-27</td>\n",
       "      <td>1</td>\n",
       "      <td>1</td>\n",
       "      <td>2000</td>\n",
       "      <td>1197.22</td>\n",
       "      <td>5000000</td>\n",
       "      <td>468176</td>\n",
       "      <td>...</td>\n",
       "      <td>2007</td>\n",
       "      <td>1</td>\n",
       "      <td>3130</td>\n",
       "      <td>2006</td>\n",
       "      <td>1</td>\n",
       "      <td>2015</td>\n",
       "      <td>1</td>\n",
       "      <td>2</td>\n",
       "      <td>5170</td>\n",
       "      <td>2</td>\n",
       "    </tr>\n",
       "    <tr>\n",
       "      <th>2</th>\n",
       "      <td>134</td>\n",
       "      <td>29</td>\n",
       "      <td>687698</td>\n",
       "      <td>2000-09-06</td>\n",
       "      <td>2</td>\n",
       "      <td>0</td>\n",
       "      <td>2000</td>\n",
       "      <td>1413.14</td>\n",
       "      <td>5000000</td>\n",
       "      <td>430632</td>\n",
       "      <td>...</td>\n",
       "      <td>2007</td>\n",
       "      <td>0</td>\n",
       "      <td>5282</td>\n",
       "      <td>2000</td>\n",
       "      <td>2</td>\n",
       "      <td>2015</td>\n",
       "      <td>2</td>\n",
       "      <td>6</td>\n",
       "      <td>36650</td>\n",
       "      <td>2</td>\n",
       "    </tr>\n",
       "    <tr>\n",
       "      <th>3</th>\n",
       "      <td>256</td>\n",
       "      <td>41</td>\n",
       "      <td>227811</td>\n",
       "      <td>1990-05-25</td>\n",
       "      <td>0</td>\n",
       "      <td>1</td>\n",
       "      <td>2000</td>\n",
       "      <td>1415.74</td>\n",
       "      <td>6000000</td>\n",
       "      <td>608117</td>\n",
       "      <td>...</td>\n",
       "      <td>2014</td>\n",
       "      <td>1</td>\n",
       "      <td>8996</td>\n",
       "      <td>1990</td>\n",
       "      <td>4</td>\n",
       "      <td>2015</td>\n",
       "      <td>1</td>\n",
       "      <td>5</td>\n",
       "      <td>64500</td>\n",
       "      <td>3</td>\n",
       "    </tr>\n",
       "    <tr>\n",
       "      <th>4</th>\n",
       "      <td>228</td>\n",
       "      <td>44</td>\n",
       "      <td>367455</td>\n",
       "      <td>2014-06-06</td>\n",
       "      <td>0</td>\n",
       "      <td>2</td>\n",
       "      <td>1000</td>\n",
       "      <td>1583.91</td>\n",
       "      <td>6000000</td>\n",
       "      <td>610706</td>\n",
       "      <td>...</td>\n",
       "      <td>2009</td>\n",
       "      <td>0</td>\n",
       "      <td>256</td>\n",
       "      <td>2014</td>\n",
       "      <td>4</td>\n",
       "      <td>2015</td>\n",
       "      <td>2</td>\n",
       "      <td>1</td>\n",
       "      <td>6500</td>\n",
       "      <td>1</td>\n",
       "    </tr>\n",
       "  </tbody>\n",
       "</table>\n",
       "<p>5 rows × 47 columns</p>\n",
       "</div>"
      ],
      "text/plain": [
       "   months_as_customer  age  policy_number policy_bind_date  policy_state  \\\n",
       "0                 328   48         521585       2014-10-17             2   \n",
       "1                 228   42         342868       2006-06-27             1   \n",
       "2                 134   29         687698       2000-09-06             2   \n",
       "3                 256   41         227811       1990-05-25             0   \n",
       "4                 228   44         367455       2014-06-06             0   \n",
       "\n",
       "   policy_csl  policy_deductable  policy_annual_premium  umbrella_limit  \\\n",
       "0           1               1000                1406.91               0   \n",
       "1           1               2000                1197.22         5000000   \n",
       "2           0               2000                1413.14         5000000   \n",
       "3           1               2000                1415.74         6000000   \n",
       "4           2               1000                1583.91         6000000   \n",
       "\n",
       "  insured_zip  ...  auto_year  fraud_reported  policy_age_at_incident  \\\n",
       "0      466132  ...       2004               1                     100   \n",
       "1      468176  ...       2007               1                    3130   \n",
       "2      430632  ...       2007               0                    5282   \n",
       "3      608117  ...       2014               1                    8996   \n",
       "4      610706  ...       2009               0                     256   \n",
       "\n",
       "   policy_bind_year  policy_bind_weekday  incident_year  incident_month  \\\n",
       "0              2014                    4           2015               1   \n",
       "1              2006                    1           2015               1   \n",
       "2              2000                    2           2015               2   \n",
       "3              1990                    4           2015               1   \n",
       "4              2014                    4           2015               2   \n",
       "\n",
       "  incident_weekday  claims_severity  incident_time_of_day  \n",
       "0                6            72810                     3  \n",
       "1                2             5170                     2  \n",
       "2                6            36650                     2  \n",
       "3                5            64500                     3  \n",
       "4                1             6500                     1  \n",
       "\n",
       "[5 rows x 47 columns]"
      ]
     },
     "execution_count": 56,
     "metadata": {},
     "output_type": "execute_result"
    }
   ],
   "source": [
    "# Encode other variables\n",
    "\n",
    "multi_label_categoricals = [\n",
    "    'policy_state', 'policy_csl', 'insured_education_level', 'insured_occupation', \n",
    "    'insured_hobbies', 'insured_relationship', 'incident_type', 'collision_type', \n",
    "    'incident_severity', 'authorities_contacted', 'incident_state', 'incident_city', \n",
    "    'auto_make'\n",
    "]\n",
    "\n",
    "# Initialize dictionary to store label encoders\n",
    "label_encoders = {}\n",
    "\n",
    "# Encode other variables\n",
    "for col in multi_label_categoricals:\n",
    "    le = LabelEncoder()\n",
    "    insurance_claimsdf[col] = le.fit_transform(insurance_claimsdf[col])\n",
    "    label_encoders[col] = le\n",
    "\n",
    "# Creating Claims Severity Indicator\n",
    "# Make sure to use 'insurance_claimsdf' consistently if this is the correct DataFrame\n",
    "insurance_claimsdf['claims_severity'] = insurance_claimsdf['total_claim_amount'] + \\\n",
    "                                        insurance_claimsdf['bodily_injuries']*1000 + \\\n",
    "                                        insurance_claimsdf['property_damage']*100\n",
    "\n",
    "# Binning incident hour into time of day categories\n",
    "bins = [0, 6, 12, 18, 24]\n",
    "labels = ['Night', 'Morning', 'Afternoon', 'Evening']\n",
    "insurance_claimsdf['incident_time_of_day'] = pd.cut(insurance_claimsdf['incident_hour_of_the_day'], bins=bins, labels=labels, right=False)\n",
    "\n",
    "# Encoding the new time of day category\n",
    "insurance_claimsdf['incident_time_of_day'] = LabelEncoder().fit_transform(insurance_claimsdf['incident_time_of_day'])\n",
    "\n",
    "# Reviewing the dataset with new features\n",
    "insurance_claimsdf.head(5)\n"
   ]
  },
  {
   "cell_type": "code",
   "execution_count": 57,
   "id": "d1317882",
   "metadata": {},
   "outputs": [],
   "source": [
    "# Drop some of the not needed columns\n",
    "columns_to_drop = ['policy_number','policy_bind_date','insured_zip','incident_date','auto_model','incident_location']\n",
    "insurance_claimsdf.drop(columns_to_drop, axis=1, inplace=True)"
   ]
  },
  {
   "cell_type": "markdown",
   "id": "2c85ba25",
   "metadata": {},
   "source": [
    "#### Accomplishing First Objective using Clustering:\n",
    "\n",
    "- The purpose of this project is to determine which policyholders, based on their policy interaction history, policy details and claim history are likely to have a favorable experience.The goal is be able to make a model that can actively proactively provide individualized services."
   ]
  },
  {
   "cell_type": "code",
   "execution_count": 58,
   "id": "f25acf09",
   "metadata": {},
   "outputs": [],
   "source": [
    "from sklearn.preprocessing import StandardScaler\n",
    "from sklearn.cluster import KMeans\n",
    "import matplotlib.pyplot as plt"
   ]
  },
  {
   "cell_type": "code",
   "execution_count": 59,
   "id": "7d3a20d0",
   "metadata": {},
   "outputs": [
    {
     "name": "stderr",
     "output_type": "stream",
     "text": [
      "C:\\Users\\chimi\\anaconda3\\lib\\site-packages\\sklearn\\cluster\\_kmeans.py:1416: FutureWarning: The default value of `n_init` will change from 10 to 'auto' in 1.4. Set the value of `n_init` explicitly to suppress the warning\n",
      "  super()._check_params_vs_input(X, default_n_init=10)\n",
      "C:\\Users\\chimi\\anaconda3\\lib\\site-packages\\sklearn\\cluster\\_kmeans.py:1416: FutureWarning: The default value of `n_init` will change from 10 to 'auto' in 1.4. Set the value of `n_init` explicitly to suppress the warning\n",
      "  super()._check_params_vs_input(X, default_n_init=10)\n",
      "C:\\Users\\chimi\\anaconda3\\lib\\site-packages\\sklearn\\cluster\\_kmeans.py:1416: FutureWarning: The default value of `n_init` will change from 10 to 'auto' in 1.4. Set the value of `n_init` explicitly to suppress the warning\n",
      "  super()._check_params_vs_input(X, default_n_init=10)\n",
      "C:\\Users\\chimi\\anaconda3\\lib\\site-packages\\sklearn\\cluster\\_kmeans.py:1416: FutureWarning: The default value of `n_init` will change from 10 to 'auto' in 1.4. Set the value of `n_init` explicitly to suppress the warning\n",
      "  super()._check_params_vs_input(X, default_n_init=10)\n",
      "C:\\Users\\chimi\\anaconda3\\lib\\site-packages\\sklearn\\cluster\\_kmeans.py:1416: FutureWarning: The default value of `n_init` will change from 10 to 'auto' in 1.4. Set the value of `n_init` explicitly to suppress the warning\n",
      "  super()._check_params_vs_input(X, default_n_init=10)\n",
      "C:\\Users\\chimi\\anaconda3\\lib\\site-packages\\sklearn\\cluster\\_kmeans.py:1416: FutureWarning: The default value of `n_init` will change from 10 to 'auto' in 1.4. Set the value of `n_init` explicitly to suppress the warning\n",
      "  super()._check_params_vs_input(X, default_n_init=10)\n",
      "C:\\Users\\chimi\\anaconda3\\lib\\site-packages\\sklearn\\cluster\\_kmeans.py:1416: FutureWarning: The default value of `n_init` will change from 10 to 'auto' in 1.4. Set the value of `n_init` explicitly to suppress the warning\n",
      "  super()._check_params_vs_input(X, default_n_init=10)\n",
      "C:\\Users\\chimi\\anaconda3\\lib\\site-packages\\sklearn\\cluster\\_kmeans.py:1416: FutureWarning: The default value of `n_init` will change from 10 to 'auto' in 1.4. Set the value of `n_init` explicitly to suppress the warning\n",
      "  super()._check_params_vs_input(X, default_n_init=10)\n",
      "C:\\Users\\chimi\\anaconda3\\lib\\site-packages\\sklearn\\cluster\\_kmeans.py:1416: FutureWarning: The default value of `n_init` will change from 10 to 'auto' in 1.4. Set the value of `n_init` explicitly to suppress the warning\n",
      "  super()._check_params_vs_input(X, default_n_init=10)\n",
      "C:\\Users\\chimi\\anaconda3\\lib\\site-packages\\sklearn\\cluster\\_kmeans.py:1416: FutureWarning: The default value of `n_init` will change from 10 to 'auto' in 1.4. Set the value of `n_init` explicitly to suppress the warning\n",
      "  super()._check_params_vs_input(X, default_n_init=10)\n"
     ]
    },
    {
     "data": {
      "image/png": "[encoded data removed]",
      "text/plain": [
       "<Figure size 1200x600 with 1 Axes>"
      ]
     },
     "metadata": {},
     "output_type": "display_data"
    }
   ],
   "source": [
    "# Standardizing the data\n",
    "\n",
    "def clustering(df):\n",
    "    scaler = StandardScaler()\n",
    "    scaled_data = scaler.fit_transform(df)\n",
    "    \n",
    "    # Determine the optimal number of clusters using the elbow method\n",
    "    inertia = []  # Corrected the variable name here\n",
    "    \n",
    "    k_range = range(1, 11)\n",
    "    \n",
    "    for k in k_range:\n",
    "        kmeans = KMeans(n_clusters=k, random_state=42)\n",
    "        kmeans.fit(scaled_data)\n",
    "        inertia.append(kmeans.inertia_)  # Corrected the attribute access here with an underscore\n",
    "    \n",
    "    # Plot the figure\n",
    "    plt.figure(figsize=(12, 6))\n",
    "    plt.plot(k_range, inertia, marker='o')\n",
    "    plt.title('Elbow Method For Optimal k')\n",
    "    plt.xlabel('Number of clusters')\n",
    "    plt.ylabel('Inertia')\n",
    "    plt.grid(True)\n",
    "    plt.show()\n",
    "\n",
    "\n",
    "clustering(insurance_claimsdf)\n"
   ]
  },
  {
   "cell_type": "markdown",
   "id": "8ffe0c7c",
   "metadata": {},
   "source": [
    "#### Observation:\n",
    "- Looking at the elbow method, it looks like the optimal number of k-clusters is 2 or 3."
   ]
  },
  {
   "cell_type": "markdown",
   "id": "259b0d6f",
   "metadata": {},
   "source": [
    "### DBSCAN"
   ]
  },
  {
   "cell_type": "code",
   "execution_count": 60,
   "id": "9acb8ed4",
   "metadata": {},
   "outputs": [],
   "source": [
    "from sklearn.cluster import DBSCAN"
   ]
  },
  {
   "cell_type": "code",
   "execution_count": 61,
   "id": "619d5d5a",
   "metadata": {},
   "outputs": [],
   "source": [
    "# Scale the dataset\n",
    "# make a copy of the dataset\n",
    "insurance_claimsdf1 = insurance_claimsdf.copy()\n",
    "scaler = StandardScaler()\n",
    "scaled_data = scaler.fit_transform(insurance_claimsdf1)"
   ]
  },
  {
   "cell_type": "code",
   "execution_count": 62,
   "id": "488e4fb6",
   "metadata": {},
   "outputs": [
    {
     "data": {
      "text/plain": [
       "(0, 1000)"
      ]
     },
     "execution_count": 62,
     "metadata": {},
     "output_type": "execute_result"
    }
   ],
   "source": [
    "# Applying DBSCAN with initially chosen parameters\n",
    "dbscan = DBSCAN(eps=0.5, min_samples=5)\n",
    "dbscan_labels = dbscan.fit_predict(scaled_data)\n",
    "\n",
    "# Number of clusters formed and noise points\n",
    "n_clusters_dbscan = len(set(dbscan_labels)) - (1 if -1 in dbscan_labels else 0)\n",
    "noise_points = list(dbscan_labels).count(-1)\n",
    "\n",
    "n_clusters_dbscan, noise_points"
   ]
  },
  {
   "cell_type": "code",
   "execution_count": 63,
   "id": "1310850e",
   "metadata": {},
   "outputs": [
    {
     "data": {
      "text/plain": [
       "{0.5: {'clusters': 0, 'noise_points': 1000},\n",
       " 1.0: {'clusters': 0, 'noise_points': 1000},\n",
       " 1.5: {'clusters': 0, 'noise_points': 1000},\n",
       " 2.0: {'clusters': 0, 'noise_points': 1000}}"
      ]
     },
     "execution_count": 63,
     "metadata": {},
     "output_type": "execute_result"
    }
   ],
   "source": [
    "# Trying different values of eps while keeping min_samples the same\n",
    "eps_values = [0.5, 1.0, 1.5, 2.0]  # Increasing eps values\n",
    "dbscan_results = {}\n",
    "\n",
    "for eps in eps_values:\n",
    "    dbscan = DBSCAN(eps=eps, min_samples=5)\n",
    "    labels = dbscan.fit_predict(scaled_data)\n",
    "    n_clusters = len(set(labels)) - (1 if -1 in labels else 0)\n",
    "    noise = list(labels).count(-1)\n",
    "    dbscan_results[eps] = {'clusters': n_clusters, 'noise_points': noise}\n",
    "\n",
    "dbscan_results"
   ]
  },
  {
   "cell_type": "markdown",
   "id": "3e421214",
   "metadata": {},
   "source": [
    "#### Observations:\n",
    "These results suggest that, given the current data attributes and parameter range, raising the parameter up to 2.0 still results in all points being classified as noise, suggesting that DBSCAN is not producing clusters in this instance. This may occur in datasets when the data point density is either too scattered or too uniform for DBSCAN's default settings to detect clusters accurately. Considering Hierarchical Clustering could be beneficial in light of these results."
   ]
  },
  {
   "cell_type": "code",
   "execution_count": 64,
   "id": "d5325b3b",
   "metadata": {},
   "outputs": [],
   "source": [
    "from scipy.cluster.hierarchy import dendrogram, linkage"
   ]
  },
  {
   "cell_type": "code",
   "execution_count": 65,
   "id": "81d4ce23",
   "metadata": {},
   "outputs": [
    {
     "data": {
      "image/png": "[encoded data removed]",
      "text/plain": [
       "<Figure size 1500x1000 with 1 Axes>"
      ]
     },
     "metadata": {},
     "output_type": "display_data"
    }
   ],
   "source": [
    "# Applying Hierarchical Clustering\n",
    "linked = linkage(scaled_data, method='ward')\n",
    "\n",
    "# Plotting the dendrogram\n",
    "plt.figure(figsize=(15, 10))\n",
    "dendrogram(linked,\n",
    "           truncate_mode='lastp',  # show only the last p merged clusters\n",
    "           p=20,  # show only the last 20 merged clusters\n",
    "           leaf_rotation=90.,\n",
    "           leaf_font_size=12.,\n",
    "           show_contracted=True)\n",
    "plt.title('Hierarchical Clustering Dendrogram')\n",
    "plt.xlabel('Cluster size')\n",
    "plt.ylabel('Distance')\n",
    "plt.show()"
   ]
  },
  {
   "cell_type": "markdown",
   "id": "eb22d613",
   "metadata": {},
   "source": [
    "### Observations:\n",
    "- The dendogram displays displays when there is a large jump in distance between the points there are less similar to each other. While, they are close together, they are more similar to each other. "
   ]
  },
  {
   "cell_type": "markdown",
   "id": "380b25bb",
   "metadata": {},
   "source": [
    "##### Picking the best the model:\n",
    "- K-Means\n",
    "- DBSCAN - Due to presence too many noises, DBSCAN will not be used to model our dataset.\n",
    "- Hierarichal Cluster- "
   ]
  },
  {
   "cell_type": "code",
   "execution_count": 66,
   "id": "5d11a54f",
   "metadata": {},
   "outputs": [
    {
     "name": "stderr",
     "output_type": "stream",
     "text": [
      "C:\\Users\\chimi\\anaconda3\\lib\\site-packages\\sklearn\\cluster\\_kmeans.py:1416: FutureWarning: The default value of `n_init` will change from 10 to 'auto' in 1.4. Set the value of `n_init` explicitly to suppress the warning\n",
      "  super()._check_params_vs_input(X, default_n_init=10)\n"
     ]
    }
   ],
   "source": [
    "kmeans = KMeans(n_clusters=2, random_state=42)\n",
    "clusters = kmeans.fit_predict(scaled_data)\n",
    "\n",
    "# Add the cluster back into the original df\n",
    "insurance_claimsdf['cluster'] = clusters"
   ]
  },
  {
   "cell_type": "code",
   "execution_count": 67,
   "id": "9866193d",
   "metadata": {},
   "outputs": [
    {
     "data": {
      "text/html": [
       "<div>\n",
       "<style scoped>\n",
       "    .dataframe tbody tr th:only-of-type {\n",
       "        vertical-align: middle;\n",
       "    }\n",
       "\n",
       "    .dataframe tbody tr th {\n",
       "        vertical-align: top;\n",
       "    }\n",
       "\n",
       "    .dataframe thead th {\n",
       "        text-align: right;\n",
       "    }\n",
       "</style>\n",
       "<table border=\"1\" class=\"dataframe\">\n",
       "  <thead>\n",
       "    <tr style=\"text-align: right;\">\n",
       "      <th></th>\n",
       "      <th>months_as_customer</th>\n",
       "      <th>age</th>\n",
       "      <th>policy_state</th>\n",
       "      <th>policy_csl</th>\n",
       "      <th>policy_deductable</th>\n",
       "      <th>policy_annual_premium</th>\n",
       "      <th>umbrella_limit</th>\n",
       "      <th>insured_sex</th>\n",
       "      <th>insured_education_level</th>\n",
       "      <th>insured_occupation</th>\n",
       "      <th>...</th>\n",
       "      <th>fraud_reported</th>\n",
       "      <th>policy_age_at_incident</th>\n",
       "      <th>policy_bind_year</th>\n",
       "      <th>policy_bind_weekday</th>\n",
       "      <th>incident_year</th>\n",
       "      <th>incident_month</th>\n",
       "      <th>incident_weekday</th>\n",
       "      <th>claims_severity</th>\n",
       "      <th>incident_time_of_day</th>\n",
       "      <th>cluster</th>\n",
       "    </tr>\n",
       "  </thead>\n",
       "  <tbody>\n",
       "    <tr>\n",
       "      <th>0</th>\n",
       "      <td>328</td>\n",
       "      <td>48</td>\n",
       "      <td>2</td>\n",
       "      <td>1</td>\n",
       "      <td>1000</td>\n",
       "      <td>1406.91</td>\n",
       "      <td>0</td>\n",
       "      <td>1</td>\n",
       "      <td>4</td>\n",
       "      <td>2</td>\n",
       "      <td>...</td>\n",
       "      <td>1</td>\n",
       "      <td>100</td>\n",
       "      <td>2014</td>\n",
       "      <td>4</td>\n",
       "      <td>2015</td>\n",
       "      <td>1</td>\n",
       "      <td>6</td>\n",
       "      <td>72810</td>\n",
       "      <td>3</td>\n",
       "      <td>0</td>\n",
       "    </tr>\n",
       "    <tr>\n",
       "      <th>1</th>\n",
       "      <td>228</td>\n",
       "      <td>42</td>\n",
       "      <td>1</td>\n",
       "      <td>1</td>\n",
       "      <td>2000</td>\n",
       "      <td>1197.22</td>\n",
       "      <td>5000000</td>\n",
       "      <td>1</td>\n",
       "      <td>4</td>\n",
       "      <td>6</td>\n",
       "      <td>...</td>\n",
       "      <td>1</td>\n",
       "      <td>3130</td>\n",
       "      <td>2006</td>\n",
       "      <td>1</td>\n",
       "      <td>2015</td>\n",
       "      <td>1</td>\n",
       "      <td>2</td>\n",
       "      <td>5170</td>\n",
       "      <td>2</td>\n",
       "      <td>1</td>\n",
       "    </tr>\n",
       "    <tr>\n",
       "      <th>2</th>\n",
       "      <td>134</td>\n",
       "      <td>29</td>\n",
       "      <td>2</td>\n",
       "      <td>0</td>\n",
       "      <td>2000</td>\n",
       "      <td>1413.14</td>\n",
       "      <td>5000000</td>\n",
       "      <td>0</td>\n",
       "      <td>6</td>\n",
       "      <td>11</td>\n",
       "      <td>...</td>\n",
       "      <td>0</td>\n",
       "      <td>5282</td>\n",
       "      <td>2000</td>\n",
       "      <td>2</td>\n",
       "      <td>2015</td>\n",
       "      <td>2</td>\n",
       "      <td>6</td>\n",
       "      <td>36650</td>\n",
       "      <td>2</td>\n",
       "      <td>0</td>\n",
       "    </tr>\n",
       "    <tr>\n",
       "      <th>3</th>\n",
       "      <td>256</td>\n",
       "      <td>41</td>\n",
       "      <td>0</td>\n",
       "      <td>1</td>\n",
       "      <td>2000</td>\n",
       "      <td>1415.74</td>\n",
       "      <td>6000000</td>\n",
       "      <td>0</td>\n",
       "      <td>6</td>\n",
       "      <td>1</td>\n",
       "      <td>...</td>\n",
       "      <td>1</td>\n",
       "      <td>8996</td>\n",
       "      <td>1990</td>\n",
       "      <td>4</td>\n",
       "      <td>2015</td>\n",
       "      <td>1</td>\n",
       "      <td>5</td>\n",
       "      <td>64500</td>\n",
       "      <td>3</td>\n",
       "      <td>0</td>\n",
       "    </tr>\n",
       "    <tr>\n",
       "      <th>4</th>\n",
       "      <td>228</td>\n",
       "      <td>44</td>\n",
       "      <td>0</td>\n",
       "      <td>2</td>\n",
       "      <td>1000</td>\n",
       "      <td>1583.91</td>\n",
       "      <td>6000000</td>\n",
       "      <td>1</td>\n",
       "      <td>0</td>\n",
       "      <td>11</td>\n",
       "      <td>...</td>\n",
       "      <td>0</td>\n",
       "      <td>256</td>\n",
       "      <td>2014</td>\n",
       "      <td>4</td>\n",
       "      <td>2015</td>\n",
       "      <td>2</td>\n",
       "      <td>1</td>\n",
       "      <td>6500</td>\n",
       "      <td>1</td>\n",
       "      <td>1</td>\n",
       "    </tr>\n",
       "  </tbody>\n",
       "</table>\n",
       "<p>5 rows × 42 columns</p>\n",
       "</div>"
      ],
      "text/plain": [
       "   months_as_customer  age  policy_state  policy_csl  policy_deductable  \\\n",
       "0                 328   48             2           1               1000   \n",
       "1                 228   42             1           1               2000   \n",
       "2                 134   29             2           0               2000   \n",
       "3                 256   41             0           1               2000   \n",
       "4                 228   44             0           2               1000   \n",
       "\n",
       "   policy_annual_premium  umbrella_limit  insured_sex  \\\n",
       "0                1406.91               0            1   \n",
       "1                1197.22         5000000            1   \n",
       "2                1413.14         5000000            0   \n",
       "3                1415.74         6000000            0   \n",
       "4                1583.91         6000000            1   \n",
       "\n",
       "   insured_education_level  insured_occupation  ...  fraud_reported  \\\n",
       "0                        4                   2  ...               1   \n",
       "1                        4                   6  ...               1   \n",
       "2                        6                  11  ...               0   \n",
       "3                        6                   1  ...               1   \n",
       "4                        0                  11  ...               0   \n",
       "\n",
       "   policy_age_at_incident  policy_bind_year  policy_bind_weekday  \\\n",
       "0                     100              2014                    4   \n",
       "1                    3130              2006                    1   \n",
       "2                    5282              2000                    2   \n",
       "3                    8996              1990                    4   \n",
       "4                     256              2014                    4   \n",
       "\n",
       "   incident_year  incident_month  incident_weekday  claims_severity  \\\n",
       "0           2015               1                 6            72810   \n",
       "1           2015               1                 2             5170   \n",
       "2           2015               2                 6            36650   \n",
       "3           2015               1                 5            64500   \n",
       "4           2015               2                 1             6500   \n",
       "\n",
       "   incident_time_of_day  cluster  \n",
       "0                     3        0  \n",
       "1                     2        1  \n",
       "2                     2        0  \n",
       "3                     3        0  \n",
       "4                     1        1  \n",
       "\n",
       "[5 rows x 42 columns]"
      ]
     },
     "execution_count": 67,
     "metadata": {},
     "output_type": "execute_result"
    }
   ],
   "source": [
    "# Preview the cluster dataset\n",
    "insurance_claimsdf.head(5)"
   ]
  },
  {
   "cell_type": "code",
   "execution_count": 68,
   "id": "976a1a39",
   "metadata": {},
   "outputs": [
    {
     "name": "stdout",
     "output_type": "stream",
     "text": [
      "[[ 2.23521082e-02  2.13866506e-02  5.27648244e-03 -3.81250301e-02\n",
      "   8.06361325e-03  1.43122749e-04 -2.21033136e-02 -4.44355571e-03\n",
      "   2.31213817e-02  3.40217545e-03 -1.15599329e-02 -8.35587077e-03\n",
      "   1.74862142e-02 -1.04592229e-02 -1.81796482e-01  3.42954505e-01\n",
      "  -1.94601366e-01 -2.84845902e-01 -3.66658073e-02  1.64578774e-03\n",
      "   1.26201268e-01  1.83366709e-01  1.28438934e-02  6.76943316e-03\n",
      "   6.70788459e-04  2.36977968e-02  3.96778244e-01  3.03680066e-01\n",
      "   3.07415133e-01  3.97649677e-01 -1.29257084e-02 -1.57032913e-02\n",
      "   8.36796165e-02 -1.88884766e-02  1.88463398e-02  2.27710577e-02\n",
      "   0.00000000e+00 -4.06440485e-03  2.21191620e-02  3.96185586e-01\n",
      "  -1.34521383e-01]\n",
      " [-9.91267406e-02 -9.48451459e-02 -2.34000526e-02  1.69076220e-01\n",
      "  -3.57603718e-02 -6.34718277e-04  9.80233907e-02  1.97062036e-02\n",
      "  -1.02538301e-01 -1.50879085e-02  5.12657894e-02  3.70564704e-02\n",
      "  -7.75475586e-02  4.63843796e-02  8.06227876e-01 -1.52092867e+00\n",
      "   8.63014756e-01  1.26322965e+00  1.62604885e-01 -7.29871084e-03\n",
      "  -5.59675189e-01 -8.13191491e-01 -5.69598750e-02 -3.00209645e-02\n",
      "  -2.97480099e-03 -1.05094577e-01 -1.75962526e+00 -1.34675507e+00\n",
      "  -1.36331929e+00 -1.76348987e+00  5.73227069e-02  6.96406830e-02\n",
      "  -3.71100908e-01  8.37662877e-02 -8.35794199e-02 -1.00984691e-01\n",
      "   0.00000000e+00  1.80247520e-02 -9.80936750e-02 -1.75699694e+00\n",
      "   5.96573089e-01]]\n"
     ]
    }
   ],
   "source": [
    "# Looking at the centroids of the the clusters\n",
    "centroids = kmeans.cluster_centers_\n",
    "print(centroids)"
   ]
  },
  {
   "cell_type": "code",
   "execution_count": 69,
   "id": "06ac3e97",
   "metadata": {},
   "outputs": [
    {
     "name": "stdout",
     "output_type": "stream",
     "text": [
      "         months_as_customer        age  policy_state  policy_csl  \\\n",
      "cluster                                                            \n",
      "0                206.525735  39.143382      1.018382    0.920343   \n",
      "1                192.548913  38.081522      0.994565    1.086957   \n",
      "\n",
      "         policy_deductable  policy_annual_premium  umbrella_limit  \\\n",
      "cluster                                                             \n",
      "0              1140.931373            1256.441078    1.050245e+06   \n",
      "1              1114.130435            1256.251250    1.326087e+06   \n",
      "\n",
      "         insured_sex  insured_education_level  insured_occupation  ...  \\\n",
      "cluster                                                            ...   \n",
      "0           0.460784                 3.011029            6.666667  ...   \n",
      "1           0.472826                 2.766304            6.592391  ...   \n",
      "\n",
      "         auto_make  fraud_reported  policy_age_at_incident  policy_bind_year  \\\n",
      "cluster                                                                        \n",
      "0         6.493873        0.283088             4688.422794       2001.742647   \n",
      "1         6.777174        0.086957             4964.059783       2000.989130   \n",
      "\n",
      "         policy_bind_weekday  incident_year  incident_month  incident_weekday  \\\n",
      "cluster                                                                         \n",
      "0                   3.106618         2015.0        1.493873          3.090686   \n",
      "1                   2.858696         2015.0        1.505435          2.853261   \n",
      "\n",
      "         claims_severity  incident_time_of_day  \n",
      "cluster                                         \n",
      "0           64327.230392              1.303922  \n",
      "1            7387.608696              2.130435  \n",
      "\n",
      "[2 rows x 40 columns]\n"
     ]
    }
   ],
   "source": [
    "# Calculate means values for each cluster\n",
    "\n",
    "# Select columns with numeric data types\n",
    "num_cols = insurance_claimsdf.select_dtypes(include=['number'])\n",
    "\n",
    "# Calculate the mean of these columns grouped by 'cluster'\n",
    "cluster_means = num_cols.groupby('cluster').mean()\n",
    "\n",
    "print(cluster_means)"
   ]
  },
  {
   "cell_type": "markdown",
   "id": "14300309",
   "metadata": {},
   "source": [
    "#### Using the months_as_customer average to classify whether a customer had positive experience or negative experience\n",
    "\n",
    "-  Justification: We will be using months_as_customer to classify whether a customer had a positive interaction or negative interaction with this insurance company.- \n",
    "- B/c the longevity of a customer translates to positive interaction. The longer a customer is with the company, the more satisfied they will likely be based on the loyalty factor. "
   ]
  },
  {
   "cell_type": "code",
   "execution_count": 73,
   "id": "79529155",
   "metadata": {},
   "outputs": [],
   "source": [
    "# Using customer's average tenure to label customer's experience\n",
    "map_values = {0 :'Positive', 1:'Negative'}\n",
    "\n",
    "insurance_claimsdf['customer_interaction'] = insurance_claimsdf['cluster'].map(map_values)"
   ]
  },
  {
   "cell_type": "code",
   "execution_count": 74,
   "id": "713f380e",
   "metadata": {},
   "outputs": [
    {
     "data": {
      "text/plain": [
       "customer_interaction\n",
       "Positive    816\n",
       "Negative    184\n",
       "Name: count, dtype: int64"
      ]
     },
     "execution_count": 74,
     "metadata": {},
     "output_type": "execute_result"
    }
   ],
   "source": [
    "# How many positive or negative interaction?\n",
    "insurance_claimsdf['customer_interaction'].value_counts()"
   ]
  },
  {
   "cell_type": "code",
   "execution_count": 77,
   "id": "404b4b00",
   "metadata": {},
   "outputs": [
    {
     "name": "stderr",
     "output_type": "stream",
     "text": [
      "C:\\Users\\chimi\\AppData\\Local\\Temp\\ipykernel_14756\\1187179159.py:5: FutureWarning: \n",
      "\n",
      "Passing `palette` without assigning `hue` is deprecated and will be removed in v0.14.0. Assign the `x` variable to `hue` and set `legend=False` for the same effect.\n",
      "\n",
      "  ax = sns.countplot(x='customer_interaction', data=insurance_claimsdf, palette='viridis')\n"
     ]
    },
    {
     "data": {
      "image/png": "[encoded data removed]",
      "text/plain": [
       "<Figure size 1200x600 with 1 Axes>"
      ]
     },
     "metadata": {},
     "output_type": "display_data"
    }
   ],
   "source": [
    "# Visualization\n",
    "\n",
    "# Create the plot\n",
    "plt.figure(figsize=(12,6))\n",
    "ax = sns.countplot(x='customer_interaction', data=insurance_claimsdf, palette='viridis')\n",
    "\n",
    "# Calculate the total number of entries in the data (for percentage calculation)\n",
    "total = len(insurance_claimsdf['customer_interaction'])\n",
    "\n",
    "# Get the current plot's bars and their locations\n",
    "for p in ax.patches:\n",
    "    height = p.get_height()  # Get the height of each bar (which is the count of each category)\n",
    "    percentage = '{:.1f}%'.format(100 * height/total)  # Calculate the percentage of each bar\n",
    "    ax.text(p.get_x() + p.get_width()/2., height + 3, percentage, ha=\"center\")  # Place the text at the top of the bar\n",
    "\n",
    "plt.show()"
   ]
  },
  {
   "cell_type": "code",
   "execution_count": 78,
   "id": "62784f9f",
   "metadata": {},
   "outputs": [
    {
     "data": {
      "text/html": [
       "<div>\n",
       "<style scoped>\n",
       "    .dataframe tbody tr th:only-of-type {\n",
       "        vertical-align: middle;\n",
       "    }\n",
       "\n",
       "    .dataframe tbody tr th {\n",
       "        vertical-align: top;\n",
       "    }\n",
       "\n",
       "    .dataframe thead th {\n",
       "        text-align: right;\n",
       "    }\n",
       "</style>\n",
       "<table border=\"1\" class=\"dataframe\">\n",
       "  <thead>\n",
       "    <tr style=\"text-align: right;\">\n",
       "      <th></th>\n",
       "      <th>Fraud_Status</th>\n",
       "      <th>Percentage</th>\n",
       "    </tr>\n",
       "  </thead>\n",
       "  <tbody>\n",
       "    <tr>\n",
       "      <th>0</th>\n",
       "      <td>Non-Fraud</td>\n",
       "      <td>91.304348</td>\n",
       "    </tr>\n",
       "    <tr>\n",
       "      <th>1</th>\n",
       "      <td>Fraud</td>\n",
       "      <td>8.695652</td>\n",
       "    </tr>\n",
       "  </tbody>\n",
       "</table>\n",
       "</div>"
      ],
      "text/plain": [
       "  Fraud_Status  Percentage\n",
       "0    Non-Fraud   91.304348\n",
       "1        Fraud    8.695652"
      ]
     },
     "execution_count": 78,
     "metadata": {},
     "output_type": "execute_result"
    }
   ],
   "source": [
    "# Out of the 18% disatisfied customer, how many of them are labeled as negative?\n",
    "# Exploring fraud and  negative experience\n",
    "\n",
    "negative_subset_data = insurance_claimsdf[insurance_claimsdf['customer_interaction'] == 'Negative']\n",
    "\n",
    "# Calculate % of fraud within this subset\n",
    "percent_fraud = negative_subset_data['fraud_reported'].value_counts() / len(negative_subset_data) * 100\n",
    "\n",
    "#\n",
    "map_values = {0:'Non-Fraud', 1:'Fraud'}\n",
    "\n",
    "# Map the series used to the provided valies\n",
    "percent_fraud.index = percent_fraud.index.map(map_values)\n",
    "\n",
    "\n",
    "# Convert the series to a DataFrame\n",
    "percent_fraud = percent_fraud.reset_index()\n",
    "percent_fraud.columns = ['Fraud_Status', 'Percentage']\n",
    "\n",
    "# Display the dataframe\n",
    "percent_fraud"
   ]
  },
  {
   "cell_type": "code",
   "execution_count": null,
   "id": "49173738",
   "metadata": {},
   "outputs": [],
   "source": []
  }
 ],
 "metadata": {
  "kernelspec": {
   "display_name": "Python 3 (ipykernel)",
   "language": "python",
   "name": "python3"
  },
  "language_info": {
   "codemirror_mode": {
    "name": "ipython",
    "version": 3
   },
   "file_extension": ".py",
   "mimetype": "text/x-python",
   "name": "python",
   "nbconvert_exporter": "python",
   "pygments_lexer": "ipython3",
   "version": "3.9.13"
  }
 },
 "nbformat": 4,
 "nbformat_minor": 5
}
